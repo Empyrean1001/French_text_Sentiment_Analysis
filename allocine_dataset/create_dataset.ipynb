{
 "cells": [
  {
   "cell_type": "code",
   "execution_count": 1,
   "metadata": {
    "metadata": {},
    "scrolled": true
   },
   "outputs": [],
   "source": [
    "import os\n",
    "import random\n",
    "random.seed(42) \n",
    "\n",
    "import matplotlib.pyplot as plt\n",
    "import pandas as pd\n",
    "import seaborn as sns\n",
    "\n",
    "# Inline plots in Jupyter notebooks\n",
    "%matplotlib inline\n",
    "\n",
    "# better display of review text in dataframes\n",
    "pd.set_option('display.max_colwidth', None) \n",
    "\n",
    "# Seaborn style\n",
    "sns.set(style=\"whitegrid\")"
   ]
  },
  {
   "cell_type": "markdown",
   "metadata": {},
   "source": [
    "# Load pickle files"
   ]
  },
  {
   "cell_type": "code",
   "execution_count": 2,
   "metadata": {
    "metadata": {}
   },
   "outputs": [
    {
     "name": "stdout",
     "output_type": "stream",
     "text": [
      "Reading file: pickle\\allocine_0.pickle\n",
      "25024\n",
      "Reading file: pickle\\allocine_1.pickle\n",
      "24458\n",
      "Reading file: pickle\\allocine_2.pickle\n",
      "23606\n",
      "Reading file: pickle\\allocine_3.pickle\n",
      "22078\n",
      "Reading file: pickle\\allocine_4.pickle\n",
      "21434\n",
      "Reading file: pickle\\allocine_5.pickle\n",
      "18914\n",
      "Reading file: pickle\\allocine_6.pickle\n",
      "17864\n",
      "Reading file: pickle\\allocine_7.pickle\n",
      "16404\n",
      "Reading file: pickle\\allocine_8.pickle\n",
      "14989\n",
      "Reading file: pickle\\allocine_9.pickle\n",
      "13953\n",
      "\n",
      "Loaded 198724 reviews !\n"
     ]
    }
   ],
   "source": [
    "PICKLE_DIR = 'pickle'\n",
    "\n",
    "allocine_df = pd.DataFrame()\n",
    "\n",
    "files = [file for file in os.listdir(PICKLE_DIR) if file.endswith(\".pickle\")]\n",
    "files.sort(key=lambda f: int(''.join(filter(str.isdigit, f))))\n",
    "\n",
    "for file in files:\n",
    "    path = os.path.join(PICKLE_DIR, file)\n",
    "    print(\"Reading file: \" + path)\n",
    "    df = pd.read_pickle(path)\n",
    "    print(len(df))\n",
    "    # print(df)\n",
    "    allocine_df = pd.concat([allocine_df, df], ignore_index=True)\n",
    "    \n",
    "print()\n",
    "print(\"Loaded {} reviews !\".format(len(allocine_df)))\n",
    "# allocine_df"
   ]
  },
  {
   "cell_type": "markdown",
   "metadata": {},
   "source": [
    "# Explore data"
   ]
  },
  {
   "cell_type": "code",
   "execution_count": 3,
   "metadata": {
    "metadata": {}
   },
   "outputs": [
    {
     "data": {
      "text/html": [
       "<div>\n",
       "<style scoped>\n",
       "    .dataframe tbody tr th:only-of-type {\n",
       "        vertical-align: middle;\n",
       "    }\n",
       "\n",
       "    .dataframe tbody tr th {\n",
       "        vertical-align: top;\n",
       "    }\n",
       "\n",
       "    .dataframe thead th {\n",
       "        text-align: right;\n",
       "    }\n",
       "</style>\n",
       "<table border=\"1\" class=\"dataframe\">\n",
       "  <thead>\n",
       "    <tr style=\"text-align: right;\">\n",
       "      <th></th>\n",
       "      <th>film-url</th>\n",
       "      <th>rating</th>\n",
       "      <th>review</th>\n",
       "      <th>date</th>\n",
       "      <th>helpful</th>\n",
       "      <th>unhelpful</th>\n",
       "    </tr>\n",
       "  </thead>\n",
       "  <tbody>\n",
       "    <tr>\n",
       "      <th>0</th>\n",
       "      <td>http://www.allocine.fr/film/fichefilm-265567/critiques/spectateurs/</td>\n",
       "      <td>5.0</td>\n",
       "      <td>1917, comme son nom l'indique, raconte l'histoire d'un soldat pendant la 1ère guerre mondiale.&lt;br/&gt;Sam Mendes, réalisateur extrêmement talentueux, signe une fois de plus un bijou de la réalisation.&lt;br/&gt;Ce faux plan séquence apparaît finalement vrai tant la maîtrise y est. Tenu en haleine tout du long par des visuels époustouflants et un George MacKey qui dégage une sincérité folle, on ne voit absolument pas le temps passer. Une fois que l'on lance 1917, on ne peut s'en décrocher avant la fin.&lt;br/&gt;Bien que la force du film passe par sa réalisation magistrale et sa direction d'acting, l'histoire est juste et authentique et la BO plus qu'en adéquation avec son œuvre.&lt;br/&gt;Il est bien évidemment préférable de voir ce film sur grand écran, pour qu'il ne perde pas de sa superbe.&lt;br/&gt;Chef d'œuvre de réalisation, ce qui suffit à lui même : 5/5.</td>\n",
       "      <td>2022-08-21</td>\n",
       "      <td>20</td>\n",
       "      <td>3</td>\n",
       "    </tr>\n",
       "    <tr>\n",
       "      <th>1</th>\n",
       "      <td>http://www.allocine.fr/film/fichefilm-265567/critiques/spectateurs/</td>\n",
       "      <td>4.5</td>\n",
       "      <td>\"Oh non, encore un film de guerre fait par les américains\" me suis-je dit instinctivement avant d'aller voir \"1917\". Mais bon, avec Sam Mendes aux commandes, il y a de quoi s'y risquer... et quels risques ! Je ne m'attendais pas à être autant \"embrigadé\" par le film. Le dispositif du (faux) plan-séquence qui s'étale sur deux heures est immersif au possible et m'a mis en apnée à plusieurs reprises. Pour ceux qui ne vont pas souvent au cinéma, je pense que \"1917\" gagne vraiment à être vu sur grand écran ; c'est du grand spectacle, furieux et magistral ! L'histoire, inspirée des récits du grand-père du réalisateur, raconte la mission périlleuse de deux soldats anglais qui consiste à passer en territoire ennemi afin de livrer un message vital qui sauvera la vie de milliers d'hommes. Le dispositif de Mendes s'articule autour de ce scénario et s'engage à plonger le spectateur dans l'action en ne lâchant jamais les deux protagonistes de vue : George MacKay et Dean-Charles Chapman font d'ailleurs preuve d'une endurance et d'une candeur remarquables. On est très près de leurs corps, avec une musique prégnante et intense, avec des mouvements de caméra absolument dingues, une multitude de décors racontant chacun une page de ce périple mais aussi un nombre incalculable de figurants et d'effets... Bref, une apothéose de cinéma qui transcende et secoue ! On a là une belle prouesse technique et cinématographique qui nous en met plein les yeux et nous donne l'impression d'être sur une montagne-russe... Je suis sorti de la salle éprouvé, comme si j'avais moi aussi parcouru cette longue distance avec les personnages. Cette expérience sensorielle est rare, surtout lorsque l'aspect technique met en valeur l'histoire et vice-versa. Bien entendu, aborder les tranchées de la Première Guerre mondiale fait écho à d'autres, plus récentes, et en cela, Sam Mendes assure un coup de maitre en évitant toute morale et en privilégiant les émotions fortes pour rendre hommage aux héros de guerre.</td>\n",
       "      <td>2020-01-21</td>\n",
       "      <td>50</td>\n",
       "      <td>27</td>\n",
       "    </tr>\n",
       "    <tr>\n",
       "      <th>2</th>\n",
       "      <td>http://www.allocine.fr/film/fichefilm-265567/critiques/spectateurs/</td>\n",
       "      <td>3.5</td>\n",
       "      <td>Allez soyons franc, « 1917 » est un film de guerre maîtrisé de bout en bout qui vaut son pesant de popcorn. Certains diront blockbuster, d’autres film froid qui retrace sans empathie l’expérience de nos ancêtres… personnellement j’opterais pour film à budget moyen qui se démarque en utilisant une technique certes déjà connue et utilisée, mais une technique quand même : le plan séquence. Sam Mendes avait sans doute l’envie de nous faire vivre en temps réel une mission clé de la survie des troupes alliés lors de la Grande Guerre. C’est réussi. La reconstitution des décors et des costumes est tout simplement splendide. Nous sommes immergés dans un no-man’s land des plus terrifiants et authentiques et nous suivons une course contre la montre qui s’apparente à du suicide.&lt;br/&gt;&lt;br/&gt;« 1917 » est donc une bonne retranscription composée de maîtrise historique et technique. Sam Mendes l’a d’ailleurs souligné dans une de ses interviews : « Très peu de films évoquent la Première Guerre Mondiale car c’est une guerre immobile qui consistait à attendre des jours et des jours dans les tranchées pour finalement mourir 200 ou 300 mètres plus loin ». L’originalité de ce film, c’est la singularité d’une petite mission intégrée dans la guerre. Rajouter une petite histoire dans l’histoire.&lt;br/&gt;&lt;br/&gt;Contrairement à un film comme « Dunkerque » de Christopher Nolan, « 1917 » ne fait pas un documentaire de la guerre et n’hésite pas à nous donner une dimension héroïque (et ce sans en faire des tonnes non plus). Un homme pour en sauver 1 600 autres, 1 600 autres comme lui. La mission aurait pu être assignée à lui ou à un autre, la finalité aurait été la même. D’où l’importance d’un personnage que l’on suit et qui a un impact tout au long de l’histoire sans pour autant être mis sur un piédestal.&lt;br/&gt;&lt;br/&gt;En résumé, « 1917 » est un film prenant et abouti où très peu de défauts peuvent être décelés en termes de technique ou de procédés utilisés. On se croit vraiment sur place avec les poilus. Reste à savoir si c’est un film qui pousse à la réflexion ? Pas nécessairement. Bien entendu on peut repenser aux horreurs de la guerre (villages rasés, faune et flore dévastés) et la souffrance vécue dans les tranchées. Malheureusement ce n’est pas l’objet du film et l’empathie reste assez « légère » dans la narration. Belle claque visuelle toutefois.</td>\n",
       "      <td>2020-01-20</td>\n",
       "      <td>46</td>\n",
       "      <td>31</td>\n",
       "    </tr>\n",
       "    <tr>\n",
       "      <th>3</th>\n",
       "      <td>http://www.allocine.fr/film/fichefilm-265567/critiques/spectateurs/</td>\n",
       "      <td>5.0</td>\n",
       "      <td>Après “American Beauty” ou les deux derniers James Bond “Skyfall” et “Spectre”, Sam Mendes nous emporte dans les tranchées de la Première Guerre Mondiale aux côtés de deux comédiens méconnus. “1917” va suivre deux jeunes soldats britanniques qui se voient assigner une mission suicidaire, celle de traverser le no man’s land et les lignes ennemies pour délivrer un message aux environs d’Ecoust-Saint-Mein qui permettra de sauver 1 600 soldats avant qu’ils ne tombent dans un piège tendu par l’armée allemande. Le réalisateur nous offre une expérience totalement immersive grâce à un faux plan séquence de deux heures. Ce défi technique qui nous rappelle “Birdman” n’avait jamais été fait sur un film de guerre. Oppressant à tout instant, le film déjoue l’épreuve de la temporalité et le spectateur aura l’impression de passer une journée entière en territoire hostile. George MacKay et Dean-Charles Chapman crèvent littéralement l’écran et nous font prendre conscience de l’engagement des soldats à servir notre nation. Bouleversant de bout en bout, la musique épique de Thomas Newman accentue l’importance d’une oeuvre qui restera dans nos mémoires pour longtemps.&lt;br/&gt;D'autres critiques sur notre page Facebook : Cinéphiles 44 et notre site cinephiles44.com</td>\n",
       "      <td>2020-01-29</td>\n",
       "      <td>40</td>\n",
       "      <td>29</td>\n",
       "    </tr>\n",
       "    <tr>\n",
       "      <th>4</th>\n",
       "      <td>http://www.allocine.fr/film/fichefilm-265567/critiques/spectateurs/</td>\n",
       "      <td>3.5</td>\n",
       "      <td>Vu grâce au Club 300.&lt;br/&gt;Visuellement incroyable le film de Sam Mendes va sans doute faire date. Néanmoins un reproche peut lui être fait, à savoir que la forme a tendance à prendre le dessus sur le fond.</td>\n",
       "      <td>2019-12-06</td>\n",
       "      <td>25</td>\n",
       "      <td>17</td>\n",
       "    </tr>\n",
       "    <tr>\n",
       "      <th>...</th>\n",
       "      <td>...</td>\n",
       "      <td>...</td>\n",
       "      <td>...</td>\n",
       "      <td>...</td>\n",
       "      <td>...</td>\n",
       "      <td>...</td>\n",
       "    </tr>\n",
       "    <tr>\n",
       "      <th>198719</th>\n",
       "      <td>https://www.allocine.fr/film/fichefilm-221661/critiques/spectateurs/</td>\n",
       "      <td>2.5</td>\n",
       "      <td>Que dire ... de belles images, des effets spéciaux à foison (trop il me semble on sent parfois l'animation) mais pas vraiment d'originalité dans ce film. ça tournoie (beaucoup) dommage qu'il manque une âme ou de l'humour à ce film. On dirait que la forme l'emporte sur le fond. Très moyen je trouve. Sinon le personnage est inspiré d'un juge qui a réellement existé et a fait l'objet d'une série de roman policiers écrits par Robet van Gulik (chercher Juge Ti sur google) Je conseille plus les livres que ce film.</td>\n",
       "      <td>2014-08-23</td>\n",
       "      <td>2</td>\n",
       "      <td>3</td>\n",
       "    </tr>\n",
       "    <tr>\n",
       "      <th>198720</th>\n",
       "      <td>https://www.allocine.fr/film/fichefilm-221661/critiques/spectateurs/</td>\n",
       "      <td>4.5</td>\n",
       "      <td>Alors qu’il m’avait ravi avec son premier \"Detective Dee\", Tsui Hark m’avait quelque peu déçu avec son récent \"Dragon Gate : la Légende des Sabres Volants\" où il donnait l’impression d’avoir laissé son talent de côté au profit du tout numérique sans que cela soit pour autant profitable visuellement parlant : notre génie aurait-il vendu son âme au diable ? C’est donc avec une certaine peur que j’attendais son \"Detective Dee 2\"…mais je fus vite rassuré : \"Dragon Gate\" n’était finalement qu’un petit coup de fatigue ! Choisissant judicieusement de raconter une histoire antérieure à celle du premier volet (et oui, il s’agit donc d’un préquel et non d'une suite), Tsui Hark arrive ainsi à ne pas perdre ceux qui n’aurait pas vu \"Detective Dee\" et à proposer à ceux qui l’ont vu une certaine continuité en nous dévoilant comment Dee et son ami Shatuo se sont connus et pourquoi il existe une certaine tension entre Dee et l’impératrice Wu. Très intelligemment joué donc…mais il ne s’agit pas là du seul tour de force du film : avec ses paysages grandioses, ses décors somptueux et ses costumes splendides, ce deuxième opus de notre Sherlock Holmes chinois (bin si : intelligent, déduction remarquable, mystérieux, sachant se battre, courageux, fier, légèrement insolant…sans déconner : vous n’aviez pas fait le rapprochement vous ?!) atteint des sommets en matière de beauté esthétique. Et Tsui Hark se permet de doubler cet esthétique avec une réalisation totalement démesurée comme il sait si bien le faire en nous envoyant en pleine tête une mise en scène très dynamique, des combats formidables et ultra chorégraphiés, des séquences en ralenti accentuant les mouvements de caméra quasi acrobatiques et des effets spéciaux dantesques. Rien que la scène navale du début est absolument démente avec une telle symbiose au niveau des effets numériques et des effets réels que j’en ai eu des étoiles plein les yeux !! Non, Tsui Hark n’est pas encore mort et il le prouve à chaque seconde de son film, nous laissant K.O. au fond de notre fauteuil comme si on venait de se prendre un bon gros crochet du droit. Et comme si tout cela ne suffisait pas, le nirvana est atteint lorsqu’on regarde ce spectacle grandiose en écoutant la bande originale tout aussi sublime de Kenji Kawaï (\"Ring 1&amp;2\", \"Dark Water\", \"Ghost in the Shell 1&amp;2\", \"Avalon\", \"Ip Man 2\", \"Death Note 1&amp;2\", \"Seven Swords\", \"Gantz 1&amp;2\") qui a encore fait ici un boulot quasi divin en livrant tout simplement l’un de ses scores les plus épiques ! Au niveau du casting, Mark Chao reprend haut la main le rôle de Dee et n’a vraiment rien à envier à Alan Lau ; idem pour Lin Gengxin qui incarne Shatuo à la place de Tony Leung. Par contre, c’est toujours un plaisir de retrouver la charismatique Carina Lau dans la peau de l’impératrice Wu Zeitan où elle s’en donne à cœur joie dans le cynique (encore plus que dans le premier volet). Parmi les nouveaux venus, on retiendra l’impressionnant Shaofeng Feng (mais quelle présence à l’écran !!) qui incarne Yuchi et la magnifique Angela « Baby » Yeung Wing qui joue le rôle de Yui (bon dieu que cette femme est belle !!). Tsui Hark nous propose donc une suite aux aventures du détective Dee bien supérieure à son prédécesseur et qui n’est qu’un joyau de plus au palmarès du génie chinois. Véritable monument de cinéma épique, \"Detective Dee 2 : la Légende du Dragon des Mers\" est LE film de cet été, alors si vous avez aimé le premier, n’hésitez pas une seule seconde pour aller voir sa suite/préquel. Quand à moi, vu le nombre de romans sur Dee que Robert Van Gulik a écrit, j’espère sincèrement que Hark nous sortira bientôt un troisième opus…et pourquoi pas un quatrième…puis un cinquième, puis un sixième, puis….bref, Tsui : c’est quand tu veux !!</td>\n",
       "      <td>2014-09-09</td>\n",
       "      <td>2</td>\n",
       "      <td>0</td>\n",
       "    </tr>\n",
       "    <tr>\n",
       "      <th>198721</th>\n",
       "      <td>https://www.allocine.fr/film/fichefilm-221661/critiques/spectateurs/</td>\n",
       "      <td>5.0</td>\n",
       "      <td>ANALYSE DU RENDU 3D :&lt;br/&gt;Pour ceux qui ont raté l’épisode majeur de l’année 2013, il est bon de rappeler que le réalisateur hong-kongais Tsui Hark a réinventé les codes de la mise en scène 3D pour nous proposer un OVNI, Dragon Gate 3D - la légende des sabres volants Blu-ray 3D, film qui a pu immédiatement parader aux côtés d’un des monuments de la mise en scène 3D, Avatar de James Cameron. En effet aux commandes de ce qui est vraisemblablement l’une des 3 plus belles natives de l’histoire, Tsui Hark a montré une insolence inventivité et maîtrise de la mise en scène 3D pour jouer des caméras et des angles de vues afin d’insérer un maximum d’effet de profondeur 3D et de jaillissements permanents / projections possibles, le tout en respectant la contrainte essentielle [...] Lire le dossier 3D complet de 4 pages de tous les effets 3D du film !</td>\n",
       "      <td>2014-05-24</td>\n",
       "      <td>2</td>\n",
       "      <td>4</td>\n",
       "    </tr>\n",
       "    <tr>\n",
       "      <th>198722</th>\n",
       "      <td>https://www.allocine.fr/film/fichefilm-221661/critiques/spectateurs/</td>\n",
       "      <td>3.5</td>\n",
       "      <td>Le grand retour de Tsui Hark. Une belle épopée fidèle aux conventions du genre, avec une belle profusion de recherches esthétiques. Un splendide album d'images en 3D.</td>\n",
       "      <td>2014-08-24</td>\n",
       "      <td>0</td>\n",
       "      <td>1</td>\n",
       "    </tr>\n",
       "    <tr>\n",
       "      <th>198723</th>\n",
       "      <td>https://www.allocine.fr/film/fichefilm-221661/critiques/spectateurs/</td>\n",
       "      <td>4.0</td>\n",
       "      <td>Ce nouvel opus de Tsui Hark est un très bon divertissement. Encore une fois, le réalisateur nous montre ses talents virtuoses en matière de plans et de 3D.</td>\n",
       "      <td>2014-08-06</td>\n",
       "      <td>0</td>\n",
       "      <td>1</td>\n",
       "    </tr>\n",
       "  </tbody>\n",
       "</table>\n",
       "<p>198724 rows × 6 columns</p>\n",
       "</div>"
      ],
      "text/plain": [
       "                                                                    film-url  \\\n",
       "0        http://www.allocine.fr/film/fichefilm-265567/critiques/spectateurs/   \n",
       "1        http://www.allocine.fr/film/fichefilm-265567/critiques/spectateurs/   \n",
       "2        http://www.allocine.fr/film/fichefilm-265567/critiques/spectateurs/   \n",
       "3        http://www.allocine.fr/film/fichefilm-265567/critiques/spectateurs/   \n",
       "4        http://www.allocine.fr/film/fichefilm-265567/critiques/spectateurs/   \n",
       "...                                                                      ...   \n",
       "198719  https://www.allocine.fr/film/fichefilm-221661/critiques/spectateurs/   \n",
       "198720  https://www.allocine.fr/film/fichefilm-221661/critiques/spectateurs/   \n",
       "198721  https://www.allocine.fr/film/fichefilm-221661/critiques/spectateurs/   \n",
       "198722  https://www.allocine.fr/film/fichefilm-221661/critiques/spectateurs/   \n",
       "198723  https://www.allocine.fr/film/fichefilm-221661/critiques/spectateurs/   \n",
       "\n",
       "        rating  \\\n",
       "0          5.0   \n",
       "1          4.5   \n",
       "2          3.5   \n",
       "3          5.0   \n",
       "4          3.5   \n",
       "...        ...   \n",
       "198719     2.5   \n",
       "198720     4.5   \n",
       "198721     5.0   \n",
       "198722     3.5   \n",
       "198723     4.0   \n",
       "\n",
       "                                                                                                                                                                                                                                                                                                                                                                                                                                                                                                                                                                                                                                                                                                                                                                                                                                                                                                                                                                                                                                                                                                                                                                                                                                                                                                                                                                                                                                                                                                                                                                                                                                                                                                                                                                                                                                                                                                                                                                                                                                                                                                                                                                                                                                                                                                                                                                                                                                                                                                                                                                                                                                                                                                                                                                                                                                                                                                                                                                                                                                                                                                                                                                                                                                                                                                                                                                                                                                                                                                                                                                                                                                                                                                                                                                                                                                                                                                             review  \\\n",
       "0                                                                                                                                                                                                                                                                                                                                                                                                                                                                                                                                                                                                                                                                                                                                                                                                                                                                                                                                                                                                                                                                                                                                                                                                                                                                                                                                                                                                                                                                                                                                                                                                                                                                                                                                                                                                                                                                                                                                                                                                                                                                                                                                                                                                                                                                                                                                                                                                                                                                                                                                                                                                                                                                                                                                                                                                                                                                                                                                                                                                                                   1917, comme son nom l'indique, raconte l'histoire d'un soldat pendant la 1ère guerre mondiale.<br/>Sam Mendes, réalisateur extrêmement talentueux, signe une fois de plus un bijou de la réalisation.<br/>Ce faux plan séquence apparaît finalement vrai tant la maîtrise y est. Tenu en haleine tout du long par des visuels époustouflants et un George MacKey qui dégage une sincérité folle, on ne voit absolument pas le temps passer. Une fois que l'on lance 1917, on ne peut s'en décrocher avant la fin.<br/>Bien que la force du film passe par sa réalisation magistrale et sa direction d'acting, l'histoire est juste et authentique et la BO plus qu'en adéquation avec son œuvre.<br/>Il est bien évidemment préférable de voir ce film sur grand écran, pour qu'il ne perde pas de sa superbe.<br/>Chef d'œuvre de réalisation, ce qui suffit à lui même : 5/5.   \n",
       "1                                                                                                                                                                                                                                                                                                                                                                                                                                                                                                                                                                                                                                                                                                                                                                                                                                                                                                                                                                                                                                                                                                                                                                                                                                                                                                                                                                                                                                                                                                                                                                                                                                                                                                                                                                                                                                      \"Oh non, encore un film de guerre fait par les américains\" me suis-je dit instinctivement avant d'aller voir \"1917\". Mais bon, avec Sam Mendes aux commandes, il y a de quoi s'y risquer... et quels risques ! Je ne m'attendais pas à être autant \"embrigadé\" par le film. Le dispositif du (faux) plan-séquence qui s'étale sur deux heures est immersif au possible et m'a mis en apnée à plusieurs reprises. Pour ceux qui ne vont pas souvent au cinéma, je pense que \"1917\" gagne vraiment à être vu sur grand écran ; c'est du grand spectacle, furieux et magistral ! L'histoire, inspirée des récits du grand-père du réalisateur, raconte la mission périlleuse de deux soldats anglais qui consiste à passer en territoire ennemi afin de livrer un message vital qui sauvera la vie de milliers d'hommes. Le dispositif de Mendes s'articule autour de ce scénario et s'engage à plonger le spectateur dans l'action en ne lâchant jamais les deux protagonistes de vue : George MacKay et Dean-Charles Chapman font d'ailleurs preuve d'une endurance et d'une candeur remarquables. On est très près de leurs corps, avec une musique prégnante et intense, avec des mouvements de caméra absolument dingues, une multitude de décors racontant chacun une page de ce périple mais aussi un nombre incalculable de figurants et d'effets... Bref, une apothéose de cinéma qui transcende et secoue ! On a là une belle prouesse technique et cinématographique qui nous en met plein les yeux et nous donne l'impression d'être sur une montagne-russe... Je suis sorti de la salle éprouvé, comme si j'avais moi aussi parcouru cette longue distance avec les personnages. Cette expérience sensorielle est rare, surtout lorsque l'aspect technique met en valeur l'histoire et vice-versa. Bien entendu, aborder les tranchées de la Première Guerre mondiale fait écho à d'autres, plus récentes, et en cela, Sam Mendes assure un coup de maitre en évitant toute morale et en privilégiant les émotions fortes pour rendre hommage aux héros de guerre.   \n",
       "2                                                                                                                                                                                                                                                                                                                                                                                                                                                                                                                                                                                                                                                                                                                                                                                                                                                                                                                                                                                                                                                                                                                                                                                                                                                                                                                                                                                                                                                                   Allez soyons franc, « 1917 » est un film de guerre maîtrisé de bout en bout qui vaut son pesant de popcorn. Certains diront blockbuster, d’autres film froid qui retrace sans empathie l’expérience de nos ancêtres… personnellement j’opterais pour film à budget moyen qui se démarque en utilisant une technique certes déjà connue et utilisée, mais une technique quand même : le plan séquence. Sam Mendes avait sans doute l’envie de nous faire vivre en temps réel une mission clé de la survie des troupes alliés lors de la Grande Guerre. C’est réussi. La reconstitution des décors et des costumes est tout simplement splendide. Nous sommes immergés dans un no-man’s land des plus terrifiants et authentiques et nous suivons une course contre la montre qui s’apparente à du suicide.<br/><br/>« 1917 » est donc une bonne retranscription composée de maîtrise historique et technique. Sam Mendes l’a d’ailleurs souligné dans une de ses interviews : « Très peu de films évoquent la Première Guerre Mondiale car c’est une guerre immobile qui consistait à attendre des jours et des jours dans les tranchées pour finalement mourir 200 ou 300 mètres plus loin ». L’originalité de ce film, c’est la singularité d’une petite mission intégrée dans la guerre. Rajouter une petite histoire dans l’histoire.<br/><br/>Contrairement à un film comme « Dunkerque » de Christopher Nolan, « 1917 » ne fait pas un documentaire de la guerre et n’hésite pas à nous donner une dimension héroïque (et ce sans en faire des tonnes non plus). Un homme pour en sauver 1 600 autres, 1 600 autres comme lui. La mission aurait pu être assignée à lui ou à un autre, la finalité aurait été la même. D’où l’importance d’un personnage que l’on suit et qui a un impact tout au long de l’histoire sans pour autant être mis sur un piédestal.<br/><br/>En résumé, « 1917 » est un film prenant et abouti où très peu de défauts peuvent être décelés en termes de technique ou de procédés utilisés. On se croit vraiment sur place avec les poilus. Reste à savoir si c’est un film qui pousse à la réflexion ? Pas nécessairement. Bien entendu on peut repenser aux horreurs de la guerre (villages rasés, faune et flore dévastés) et la souffrance vécue dans les tranchées. Malheureusement ce n’est pas l’objet du film et l’empathie reste assez « légère » dans la narration. Belle claque visuelle toutefois.   \n",
       "3                                                                                                                                                                                                                                                                                                                                                                                                                                                                                                                                                                                                                                                                                                                                                                                                                                                                                                                                                                                                                                                                                                                                                                                                                                                                                                                                                                                                                                                                                                                                                                                                                                                                                                                                                                                                                                                                                                                                                                                                                                                                                                                                                                                                                                                                                                                                                                                                                                                                                                                                                                                                      Après “American Beauty” ou les deux derniers James Bond “Skyfall” et “Spectre”, Sam Mendes nous emporte dans les tranchées de la Première Guerre Mondiale aux côtés de deux comédiens méconnus. “1917” va suivre deux jeunes soldats britanniques qui se voient assigner une mission suicidaire, celle de traverser le no man’s land et les lignes ennemies pour délivrer un message aux environs d’Ecoust-Saint-Mein qui permettra de sauver 1 600 soldats avant qu’ils ne tombent dans un piège tendu par l’armée allemande. Le réalisateur nous offre une expérience totalement immersive grâce à un faux plan séquence de deux heures. Ce défi technique qui nous rappelle “Birdman” n’avait jamais été fait sur un film de guerre. Oppressant à tout instant, le film déjoue l’épreuve de la temporalité et le spectateur aura l’impression de passer une journée entière en territoire hostile. George MacKay et Dean-Charles Chapman crèvent littéralement l’écran et nous font prendre conscience de l’engagement des soldats à servir notre nation. Bouleversant de bout en bout, la musique épique de Thomas Newman accentue l’importance d’une oeuvre qui restera dans nos mémoires pour longtemps.<br/>D'autres critiques sur notre page Facebook : Cinéphiles 44 et notre site cinephiles44.com   \n",
       "4                                                                                                                                                                                                                                                                                                                                                                                                                                                                                                                                                                                                                                                                                                                                                                                                                                                                                                                                                                                                                                                                                                                                                                                                                                                                                                                                                                                                                                                                                                                                                                                                                                                                                                                                                                                                                                                                                                                                                                                                                                                                                                                                                                                                                                                                                                                                                                                                                                                                                                                                                                                                                                                                                                                                                                                                                                                                                                                                                                                                                                                                                                                                                                                                                                                                                                                                                                                                                                                                                                                                                                                                                                                                                                     Vu grâce au Club 300.<br/>Visuellement incroyable le film de Sam Mendes va sans doute faire date. Néanmoins un reproche peut lui être fait, à savoir que la forme a tendance à prendre le dessus sur le fond.   \n",
       "...                                                                                                                                                                                                                                                                                                                                                                                                                                                                                                                                                                                                                                                                                                                                                                                                                                                                                                                                                                                                                                                                                                                                                                                                                                                                                                                                                                                                                                                                                                                                                                                                                                                                                                                                                                                                                                                                                                                                                                                                                                                                                                                                                                                                                                                                                                                                                                                                                                                                                                                                                                                                                                                                                                                                                                                                                                                                                                                                                                                                                                                                                                                                                                                                                                                                                                                                                                                                                                                                                                                                                                                                                                                                                                                                                                                                                                                                                                             ...   \n",
       "198719                                                                                                                                                                                                                                                                                                                                                                                                                                                                                                                                                                                                                                                                                                                                                                                                                                                                                                                                                                                                                                                                                                                                                                                                                                                                                                                                                                                                                                                                                                                                                                                                                                                                                                                                                                                                                                                                                                                                                                                                                                                                                                                                                                                                                                                                                                                                                                                                                                                                                                                                                                                                                                                                                                                                                                                                                                                                                                                                                                                                                                                                                                                                                                                                                                                                                                                                                                            Que dire ... de belles images, des effets spéciaux à foison (trop il me semble on sent parfois l'animation) mais pas vraiment d'originalité dans ce film. ça tournoie (beaucoup) dommage qu'il manque une âme ou de l'humour à ce film. On dirait que la forme l'emporte sur le fond. Très moyen je trouve. Sinon le personnage est inspiré d'un juge qui a réellement existé et a fait l'objet d'une série de roman policiers écrits par Robet van Gulik (chercher Juge Ti sur google) Je conseille plus les livres que ce film.   \n",
       "198720  Alors qu’il m’avait ravi avec son premier \"Detective Dee\", Tsui Hark m’avait quelque peu déçu avec son récent \"Dragon Gate : la Légende des Sabres Volants\" où il donnait l’impression d’avoir laissé son talent de côté au profit du tout numérique sans que cela soit pour autant profitable visuellement parlant : notre génie aurait-il vendu son âme au diable ? C’est donc avec une certaine peur que j’attendais son \"Detective Dee 2\"…mais je fus vite rassuré : \"Dragon Gate\" n’était finalement qu’un petit coup de fatigue ! Choisissant judicieusement de raconter une histoire antérieure à celle du premier volet (et oui, il s’agit donc d’un préquel et non d'une suite), Tsui Hark arrive ainsi à ne pas perdre ceux qui n’aurait pas vu \"Detective Dee\" et à proposer à ceux qui l’ont vu une certaine continuité en nous dévoilant comment Dee et son ami Shatuo se sont connus et pourquoi il existe une certaine tension entre Dee et l’impératrice Wu. Très intelligemment joué donc…mais il ne s’agit pas là du seul tour de force du film : avec ses paysages grandioses, ses décors somptueux et ses costumes splendides, ce deuxième opus de notre Sherlock Holmes chinois (bin si : intelligent, déduction remarquable, mystérieux, sachant se battre, courageux, fier, légèrement insolant…sans déconner : vous n’aviez pas fait le rapprochement vous ?!) atteint des sommets en matière de beauté esthétique. Et Tsui Hark se permet de doubler cet esthétique avec une réalisation totalement démesurée comme il sait si bien le faire en nous envoyant en pleine tête une mise en scène très dynamique, des combats formidables et ultra chorégraphiés, des séquences en ralenti accentuant les mouvements de caméra quasi acrobatiques et des effets spéciaux dantesques. Rien que la scène navale du début est absolument démente avec une telle symbiose au niveau des effets numériques et des effets réels que j’en ai eu des étoiles plein les yeux !! Non, Tsui Hark n’est pas encore mort et il le prouve à chaque seconde de son film, nous laissant K.O. au fond de notre fauteuil comme si on venait de se prendre un bon gros crochet du droit. Et comme si tout cela ne suffisait pas, le nirvana est atteint lorsqu’on regarde ce spectacle grandiose en écoutant la bande originale tout aussi sublime de Kenji Kawaï (\"Ring 1&2\", \"Dark Water\", \"Ghost in the Shell 1&2\", \"Avalon\", \"Ip Man 2\", \"Death Note 1&2\", \"Seven Swords\", \"Gantz 1&2\") qui a encore fait ici un boulot quasi divin en livrant tout simplement l’un de ses scores les plus épiques ! Au niveau du casting, Mark Chao reprend haut la main le rôle de Dee et n’a vraiment rien à envier à Alan Lau ; idem pour Lin Gengxin qui incarne Shatuo à la place de Tony Leung. Par contre, c’est toujours un plaisir de retrouver la charismatique Carina Lau dans la peau de l’impératrice Wu Zeitan où elle s’en donne à cœur joie dans le cynique (encore plus que dans le premier volet). Parmi les nouveaux venus, on retiendra l’impressionnant Shaofeng Feng (mais quelle présence à l’écran !!) qui incarne Yuchi et la magnifique Angela « Baby » Yeung Wing qui joue le rôle de Yui (bon dieu que cette femme est belle !!). Tsui Hark nous propose donc une suite aux aventures du détective Dee bien supérieure à son prédécesseur et qui n’est qu’un joyau de plus au palmarès du génie chinois. Véritable monument de cinéma épique, \"Detective Dee 2 : la Légende du Dragon des Mers\" est LE film de cet été, alors si vous avez aimé le premier, n’hésitez pas une seule seconde pour aller voir sa suite/préquel. Quand à moi, vu le nombre de romans sur Dee que Robert Van Gulik a écrit, j’espère sincèrement que Hark nous sortira bientôt un troisième opus…et pourquoi pas un quatrième…puis un cinquième, puis un sixième, puis….bref, Tsui : c’est quand tu veux !!   \n",
       "198721                                                                                                                                                                                                                                                                                                                                                                                                                                                                                                                                                                                                                                                                                                                                                                                                                                                                                                                                                                                                                                                                                                                                                                                                                                                                                                                                                                                                                                                                                                                                                                                                                                                                                                                                                                                                                                                                                                                                                                                                                                                                                                                                                                                                                                                                                                                                                                                                                                                                                                                                                                                                                                                                                                                                                                                                                                                                                                                                                                                                                         ANALYSE DU RENDU 3D :<br/>Pour ceux qui ont raté l’épisode majeur de l’année 2013, il est bon de rappeler que le réalisateur hong-kongais Tsui Hark a réinventé les codes de la mise en scène 3D pour nous proposer un OVNI, Dragon Gate 3D - la légende des sabres volants Blu-ray 3D, film qui a pu immédiatement parader aux côtés d’un des monuments de la mise en scène 3D, Avatar de James Cameron. En effet aux commandes de ce qui est vraisemblablement l’une des 3 plus belles natives de l’histoire, Tsui Hark a montré une insolence inventivité et maîtrise de la mise en scène 3D pour jouer des caméras et des angles de vues afin d’insérer un maximum d’effet de profondeur 3D et de jaillissements permanents / projections possibles, le tout en respectant la contrainte essentielle [...] Lire le dossier 3D complet de 4 pages de tous les effets 3D du film !   \n",
       "198722                                                                                                                                                                                                                                                                                                                                                                                                                                                                                                                                                                                                                                                                                                                                                                                                                                                                                                                                                                                                                                                                                                                                                                                                                                                                                                                                                                                                                                                                                                                                                                                                                                                                                                                                                                                                                                                                                                                                                                                                                                                                                                                                                                                                                                                                                                                                                                                                                                                                                                                                                                                                                                                                                                                                                                                                                                                                                                                                                                                                                                                                                                                                                                                                                                                                                                                                                                                                                                                                                                                                                                                                                                                                                                                                       Le grand retour de Tsui Hark. Une belle épopée fidèle aux conventions du genre, avec une belle profusion de recherches esthétiques. Un splendide album d'images en 3D.   \n",
       "198723                                                                                                                                                                                                                                                                                                                                                                                                                                                                                                                                                                                                                                                                                                                                                                                                                                                                                                                                                                                                                                                                                                                                                                                                                                                                                                                                                                                                                                                                                                                                                                                                                                                                                                                                                                                                                                                                                                                                                                                                                                                                                                                                                                                                                                                                                                                                                                                                                                                                                                                                                                                                                                                                                                                                                                                                                                                                                                                                                                                                                                                                                                                                                                                                                                                                                                                                                                                                                                                                                                                                                                                                                                                                                                                                                  Ce nouvel opus de Tsui Hark est un très bon divertissement. Encore une fois, le réalisateur nous montre ses talents virtuoses en matière de plans et de 3D.   \n",
       "\n",
       "              date  helpful  unhelpful  \n",
       "0       2022-08-21       20          3  \n",
       "1       2020-01-21       50         27  \n",
       "2       2020-01-20       46         31  \n",
       "3       2020-01-29       40         29  \n",
       "4       2019-12-06       25         17  \n",
       "...            ...      ...        ...  \n",
       "198719  2014-08-23        2          3  \n",
       "198720  2014-09-09        2          0  \n",
       "198721  2014-05-24        2          4  \n",
       "198722  2014-08-24        0          1  \n",
       "198723  2014-08-06        0          1  \n",
       "\n",
       "[198724 rows x 6 columns]"
      ]
     },
     "execution_count": 3,
     "metadata": {},
     "output_type": "execute_result"
    }
   ],
   "source": [
    "allocine_df"
   ]
  },
  {
   "cell_type": "markdown",
   "metadata": {},
   "source": [
    "## Negative reviews"
   ]
  },
  {
   "cell_type": "markdown",
   "metadata": {},
   "source": [
    "We consider a review is negative when its associating rating is less than or equal to 2.0, which includes 4 categories: 0.5, 1.0, 1.5 and 2.0"
   ]
  },
  {
   "cell_type": "code",
   "execution_count": 4,
   "metadata": {
    "metadata": {},
    "scrolled": true
   },
   "outputs": [
    {
     "data": {
      "text/html": [
       "<div>\n",
       "<style scoped>\n",
       "    .dataframe tbody tr th:only-of-type {\n",
       "        vertical-align: middle;\n",
       "    }\n",
       "\n",
       "    .dataframe tbody tr th {\n",
       "        vertical-align: top;\n",
       "    }\n",
       "\n",
       "    .dataframe thead th {\n",
       "        text-align: right;\n",
       "    }\n",
       "</style>\n",
       "<table border=\"1\" class=\"dataframe\">\n",
       "  <thead>\n",
       "    <tr style=\"text-align: right;\">\n",
       "      <th></th>\n",
       "      <th>film-url</th>\n",
       "      <th>rating</th>\n",
       "      <th>review</th>\n",
       "      <th>date</th>\n",
       "      <th>helpful</th>\n",
       "      <th>unhelpful</th>\n",
       "    </tr>\n",
       "  </thead>\n",
       "  <tbody>\n",
       "    <tr>\n",
       "      <th>89860</th>\n",
       "      <td>https://www.allocine.fr/film/fichefilm-28817/critiques/spectateurs/</td>\n",
       "      <td>0.5</td>\n",
       "      <td>Conan sort d’une pub pour un déodorant à chaque instant on l’imagine s’enduire le corps de patchouli et nous expliquer que ses dents en porcelaines sont bien blanches grâce à une bonne hygiène dentaire et un paquet de chewing-gum à la chlorophylle. Il est accompagné dans ses aventures d’une ‘pure’ grognasse sortie elle d’une pub Roger Cavailles pour la toilette intime,&lt;br/&gt;Bien sur notre tas de viande aux stéroïdes triomphera de ses ennemis et accomplira sa vengeance grâce son art subtil de la boucherie et sauvera du même coup la dinde aux gros seins qui bien sur écartera les cuisses remerciant de fait notre gros barbare au patchouli.&lt;br/&gt;&lt;br/&gt;Voilà tout est dit sur ce navet immonde qui n’aurait jamais du naître.</td>\n",
       "      <td>2011-11-28</td>\n",
       "      <td>5</td>\n",
       "      <td>4</td>\n",
       "    </tr>\n",
       "    <tr>\n",
       "      <th>67683</th>\n",
       "      <td>https://www.allocine.fr/film/fichefilm-144631/critiques/spectateurs/</td>\n",
       "      <td>2.0</td>\n",
       "      <td>Deux étoiles pour l'image et le son, sublimes. Dommage que le fond soit bien en deçà de la forme. Le jeu d'Olivier Barthelemy laisse passablement à désirer et l'histoire n'arrive pas à toucher</td>\n",
       "      <td>2011-01-25</td>\n",
       "      <td>0</td>\n",
       "      <td>1</td>\n",
       "    </tr>\n",
       "    <tr>\n",
       "      <th>77690</th>\n",
       "      <td>https://www.allocine.fr/film/fichefilm-195334/critiques/spectateurs/</td>\n",
       "      <td>0.5</td>\n",
       "      <td>du grand n'importe quoi aucun intérêt je l'ai regardé en 10 minutes à force de zapper. Aucune histoire, aucune comédie. Complètement inutile !</td>\n",
       "      <td>2013-05-08</td>\n",
       "      <td>2</td>\n",
       "      <td>1</td>\n",
       "    </tr>\n",
       "  </tbody>\n",
       "</table>\n",
       "</div>"
      ],
      "text/plain": [
       "                                                                   film-url  \\\n",
       "89860   https://www.allocine.fr/film/fichefilm-28817/critiques/spectateurs/   \n",
       "67683  https://www.allocine.fr/film/fichefilm-144631/critiques/spectateurs/   \n",
       "77690  https://www.allocine.fr/film/fichefilm-195334/critiques/spectateurs/   \n",
       "\n",
       "       rating  \\\n",
       "89860     0.5   \n",
       "67683     2.0   \n",
       "77690     0.5   \n",
       "\n",
       "                                                                                                                                                                                                                                                                                                                                                                                                                                                                                                                                                                                                                                                                                                                                                   review  \\\n",
       "89860  Conan sort d’une pub pour un déodorant à chaque instant on l’imagine s’enduire le corps de patchouli et nous expliquer que ses dents en porcelaines sont bien blanches grâce à une bonne hygiène dentaire et un paquet de chewing-gum à la chlorophylle. Il est accompagné dans ses aventures d’une ‘pure’ grognasse sortie elle d’une pub Roger Cavailles pour la toilette intime,<br/>Bien sur notre tas de viande aux stéroïdes triomphera de ses ennemis et accomplira sa vengeance grâce son art subtil de la boucherie et sauvera du même coup la dinde aux gros seins qui bien sur écartera les cuisses remerciant de fait notre gros barbare au patchouli.<br/><br/>Voilà tout est dit sur ce navet immonde qui n’aurait jamais du naître.   \n",
       "67683                                                                                                                                                                                                                                                                                                                                                                                                                                                                                                                                                    Deux étoiles pour l'image et le son, sublimes. Dommage que le fond soit bien en deçà de la forme. Le jeu d'Olivier Barthelemy laisse passablement à désirer et l'histoire n'arrive pas à toucher   \n",
       "77690                                                                                                                                                                                                                                                                                                                                                                                                                                                                                                                                                                                                      du grand n'importe quoi aucun intérêt je l'ai regardé en 10 minutes à force de zapper. Aucune histoire, aucune comédie. Complètement inutile !   \n",
       "\n",
       "             date  helpful  unhelpful  \n",
       "89860  2011-11-28        5          4  \n",
       "67683  2011-01-25        0          1  \n",
       "77690  2013-05-08        2          1  "
      ]
     },
     "execution_count": 4,
     "metadata": {},
     "output_type": "execute_result"
    }
   ],
   "source": [
    "negative_reviews = allocine_df[allocine_df['rating'] <= 2.0]\n",
    "negative_reviews.sample(3, random_state=42)"
   ]
  },
  {
   "cell_type": "markdown",
   "metadata": {},
   "source": [
    "## Positive reviews"
   ]
  },
  {
   "cell_type": "markdown",
   "metadata": {},
   "source": [
    "We consider a review is positive when its associating rating is greater than or equal to to 4.0, which includes 3 categories: 4.0, 4.5 and 5.0"
   ]
  },
  {
   "cell_type": "code",
   "execution_count": 5,
   "metadata": {
    "metadata": {}
   },
   "outputs": [
    {
     "data": {
      "text/html": [
       "<div>\n",
       "<style scoped>\n",
       "    .dataframe tbody tr th:only-of-type {\n",
       "        vertical-align: middle;\n",
       "    }\n",
       "\n",
       "    .dataframe tbody tr th {\n",
       "        vertical-align: top;\n",
       "    }\n",
       "\n",
       "    .dataframe thead th {\n",
       "        text-align: right;\n",
       "    }\n",
       "</style>\n",
       "<table border=\"1\" class=\"dataframe\">\n",
       "  <thead>\n",
       "    <tr style=\"text-align: right;\">\n",
       "      <th></th>\n",
       "      <th>film-url</th>\n",
       "      <th>rating</th>\n",
       "      <th>review</th>\n",
       "      <th>date</th>\n",
       "      <th>helpful</th>\n",
       "      <th>unhelpful</th>\n",
       "    </tr>\n",
       "  </thead>\n",
       "  <tbody>\n",
       "    <tr>\n",
       "      <th>193811</th>\n",
       "      <td>https://www.allocine.fr/film/fichefilm-185184/critiques/spectateurs/</td>\n",
       "      <td>4.5</td>\n",
       "      <td>Dans la veine de old Boy et seven! Un polar d'une noirceur absolu .... A voir ABSOLUMENT!!! Une vengeance terrifiante et sidérante ... Ça va loin, très loin !!!</td>\n",
       "      <td>2011-07-05</td>\n",
       "      <td>0</td>\n",
       "      <td>1</td>\n",
       "    </tr>\n",
       "    <tr>\n",
       "      <th>9930</th>\n",
       "      <td>http://www.allocine.fr/film/fichefilm-14178/critiques/spectateurs/</td>\n",
       "      <td>5.0</td>\n",
       "      <td>Cinq ans après \"Les Affranchis\", le trio composé de Scorsese, Pesci et de Niro s'associe à nouveau dans un film de gangsters où est décrit avec précision et avec une maîtrise parfaite le rôle majeur de la mafia dans le Las Vegas des années 1970. Le \"réalisateur mitraillette\" ne fait pas dans la dentelle et enchaîne les évènements à grande vitesse pendant près de trois heures. Le scénario est riche, complexe et dépeint à merveille la façon de penser, de s'habiller et d'agir lorsque les grands pontes pillaient par millions les clients des casinos qui se laissaient entraîner par le vice et par le goût indémodable du qui perd gagne. Le film montre bien la grandeur et la décadence de ce milieu tenu par les ordures de la société prêts à tout pour conserver la part d'argent en truquant les bandits manchots, les roulettes et autres accessoires habituels des casinos. Le film est porté par trois immenses figures du cinéma des années 1990 dont Sharon Stone qui avait été révélé au grand public dans le sulfureux \"Basic instinct\" de Verhoeven. Si \"Casino\" ressemble fortement à \"Les Affranchis\" du même auteur et réalisateur, il détient le mérite de poser au spectateur d'autres questions auxquelles il devra réfléchir avant de répondre. Le thème supplémentaire abordé est la naissance d'une petite fille et lorsqu'on assiste à toutes les magouilles et la violence qui se déchaînent entre le père et la mère qui s'entredéchirent, pour des raisons particulières et graves, c'est à se demander comment cette enfant innocente va pouvoir accumuler tout ce qu'elle voit à la télévision et tout ce qu'elle subit par sa mère indigne, qui se drogue, qui se saoûle, qui l'attache à son lit? Cela prouve que dans ce milieu, hommes et femmes qui trempent dans les affaires illégales ne possèdent ni scrupules, ni morale. Le film en lui-même est une grande réussite de Scorsese qui montre bien le soudain revirement des affaires de Las Vegas, l'argent revenant aux compagnies puissantes et non plus à la mafia.</td>\n",
       "      <td>2009-02-17</td>\n",
       "      <td>4</td>\n",
       "      <td>0</td>\n",
       "    </tr>\n",
       "    <tr>\n",
       "      <th>136416</th>\n",
       "      <td>https://www.allocine.fr/film/fichefilm-41236/critiques/spectateurs/</td>\n",
       "      <td>5.0</td>\n",
       "      <td>Très bon film ! Mieux que l'appartement, on rentre plus dans le film, on comprends mieux et surtout ça ne finit pas en queue de poisson !&lt;br/&gt;Pourquoi toujours finir dans le glauque pour que ça plaise aux gens !</td>\n",
       "      <td>2007-11-11</td>\n",
       "      <td>0</td>\n",
       "      <td>1</td>\n",
       "    </tr>\n",
       "  </tbody>\n",
       "</table>\n",
       "</div>"
      ],
      "text/plain": [
       "                                                                    film-url  \\\n",
       "193811  https://www.allocine.fr/film/fichefilm-185184/critiques/spectateurs/   \n",
       "9930      http://www.allocine.fr/film/fichefilm-14178/critiques/spectateurs/   \n",
       "136416   https://www.allocine.fr/film/fichefilm-41236/critiques/spectateurs/   \n",
       "\n",
       "        rating  \\\n",
       "193811     4.5   \n",
       "9930       5.0   \n",
       "136416     5.0   \n",
       "\n",
       "                                                                                                                                                                                                                                                                                                                                                                                                                                                                                                                                                                                                                                                                                                                                                                                                                                                                                                                                                                                                                                                                                                                                                                                                                                                                                                                                                                                                                                                                                                                                                                                                                                                                                                                                                                                                                                                                                                                                                                                                                                                                                  review  \\\n",
       "193811                                                                                                                                                                                                                                                                                                                                                                                                                                                                                                                                                                                                                                                                                                                                                                                                                                                                                                                                                                                                                                                                                                                                                                                                                                                                                                                                                                                                                                                                                                                                                                                                                                                                                                                                                                                                                                                                                                                  Dans la veine de old Boy et seven! Un polar d'une noirceur absolu .... A voir ABSOLUMENT!!! Une vengeance terrifiante et sidérante ... Ça va loin, très loin !!!   \n",
       "9930    Cinq ans après \"Les Affranchis\", le trio composé de Scorsese, Pesci et de Niro s'associe à nouveau dans un film de gangsters où est décrit avec précision et avec une maîtrise parfaite le rôle majeur de la mafia dans le Las Vegas des années 1970. Le \"réalisateur mitraillette\" ne fait pas dans la dentelle et enchaîne les évènements à grande vitesse pendant près de trois heures. Le scénario est riche, complexe et dépeint à merveille la façon de penser, de s'habiller et d'agir lorsque les grands pontes pillaient par millions les clients des casinos qui se laissaient entraîner par le vice et par le goût indémodable du qui perd gagne. Le film montre bien la grandeur et la décadence de ce milieu tenu par les ordures de la société prêts à tout pour conserver la part d'argent en truquant les bandits manchots, les roulettes et autres accessoires habituels des casinos. Le film est porté par trois immenses figures du cinéma des années 1990 dont Sharon Stone qui avait été révélé au grand public dans le sulfureux \"Basic instinct\" de Verhoeven. Si \"Casino\" ressemble fortement à \"Les Affranchis\" du même auteur et réalisateur, il détient le mérite de poser au spectateur d'autres questions auxquelles il devra réfléchir avant de répondre. Le thème supplémentaire abordé est la naissance d'une petite fille et lorsqu'on assiste à toutes les magouilles et la violence qui se déchaînent entre le père et la mère qui s'entredéchirent, pour des raisons particulières et graves, c'est à se demander comment cette enfant innocente va pouvoir accumuler tout ce qu'elle voit à la télévision et tout ce qu'elle subit par sa mère indigne, qui se drogue, qui se saoûle, qui l'attache à son lit? Cela prouve que dans ce milieu, hommes et femmes qui trempent dans les affaires illégales ne possèdent ni scrupules, ni morale. Le film en lui-même est une grande réussite de Scorsese qui montre bien le soudain revirement des affaires de Las Vegas, l'argent revenant aux compagnies puissantes et non plus à la mafia.   \n",
       "136416                                                                                                                                                                                                                                                                                                                                                                                                                                                                                                                                                                                                                                                                                                                                                                                                                                                                                                                                                                                                                                                                                                                                                                                                                                                                                                                                                                                                                                                                                                                                                                                                                                                                                                                                                                                                                                                               Très bon film ! Mieux que l'appartement, on rentre plus dans le film, on comprends mieux et surtout ça ne finit pas en queue de poisson !<br/>Pourquoi toujours finir dans le glauque pour que ça plaise aux gens !   \n",
       "\n",
       "              date  helpful  unhelpful  \n",
       "193811  2011-07-05        0          1  \n",
       "9930    2009-02-17        4          0  \n",
       "136416  2007-11-11        0          1  "
      ]
     },
     "execution_count": 5,
     "metadata": {},
     "output_type": "execute_result"
    }
   ],
   "source": [
    "positive_reviews = allocine_df[allocine_df['rating'] >= 4.0]\n",
    "positive_reviews.sample(3, random_state=42)"
   ]
  },
  {
   "cell_type": "markdown",
   "metadata": {},
   "source": [
    "## Rating counts"
   ]
  },
  {
   "cell_type": "code",
   "execution_count": 7,
   "metadata": {
    "metadata": {}
   },
   "outputs": [
    {
     "name": "stderr",
     "output_type": "stream",
     "text": [
      "C:\\Users\\ASUS\\AppData\\Local\\Temp\\ipykernel_31584\\2041346670.py:6: FutureWarning: \n",
      "\n",
      "Passing `palette` without assigning `hue` is deprecated and will be removed in v0.14.0. Assign the `x` variable to `hue` and set `legend=False` for the same effect.\n",
      "\n",
      "  ax = sns.countplot(data=allocine_df, x='rating', palette=goodbad_palette)\n"
     ]
    },
    {
     "data": {
      "image/png": "[encoded data removed]",
      "text/plain": [
       "<Figure size 800x500 with 1 Axes>"
      ]
     },
     "metadata": {},
     "output_type": "display_data"
    }
   ],
   "source": [
    "plt.figure(figsize=(8,5))\n",
    "\n",
    "goodbad_palette = sns.color_palette(\"RdYlGn_r\", n_colors=10)\n",
    "goodbad_palette.reverse()\n",
    "\n",
    "ax = sns.countplot(data=allocine_df, x='rating', palette=goodbad_palette)\n",
    "ax.set(xlabel='Rating', ylabel='')\n",
    "\n",
    "# Finalize the plot\n",
    "sns.despine(bottom=True)\n",
    "plt.tight_layout(h_pad=2)\n",
    "\n",
    "# Saving plot\n",
    "fig = ax.get_figure()\n",
    "fig.savefig('img/rating_counts.png', dpi=200)"
   ]
  },
  {
   "cell_type": "markdown",
   "metadata": {},
   "source": [
    "## Polarity"
   ]
  },
  {
   "cell_type": "code",
   "execution_count": 8,
   "metadata": {
    "metadata": {},
    "scrolled": false
   },
   "outputs": [],
   "source": [
    "def find_polarity(row):\n",
    "    if row['rating'] <= 2.0:\n",
    "        return -1\n",
    "    elif row['rating'] >= 4.0:\n",
    "        return 1\n",
    "    else:\n",
    "        return 0\n",
    "\n",
    "allocine_df['polarity'] = allocine_df.apply(lambda row : find_polarity(row), axis=1) "
   ]
  },
  {
   "cell_type": "code",
   "execution_count": 9,
   "metadata": {
    "metadata": {}
   },
   "outputs": [
    {
     "name": "stderr",
     "output_type": "stream",
     "text": [
      "C:\\Users\\ASUS\\AppData\\Local\\Temp\\ipykernel_31584\\917972237.py:6: FutureWarning: \n",
      "\n",
      "Passing `palette` without assigning `hue` is deprecated and will be removed in v0.14.0. Assign the `x` variable to `hue` and set `legend=False` for the same effect.\n",
      "\n",
      "  ax = sns.countplot(data=allocine_df, x='polarity', palette=goodbad_palette)\n",
      "C:\\Users\\ASUS\\AppData\\Local\\Temp\\ipykernel_31584\\917972237.py:8: UserWarning: FixedFormatter should only be used together with FixedLocator\n",
      "  ax.set_xticklabels(['Negative', 'Neutral', 'Positive'])\n"
     ]
    },
    {
     "data": {
      "image/png": "[encoded data removed]",
      "text/plain": [
       "<Figure size 800x500 with 1 Axes>"
      ]
     },
     "metadata": {},
     "output_type": "display_data"
    }
   ],
   "source": [
    "plt.figure(figsize=(8,5))\n",
    "\n",
    "goodbad_palette = sns.color_palette(\"RdYlGn_r\", n_colors=3)\n",
    "goodbad_palette.reverse()\n",
    "\n",
    "ax = sns.countplot(data=allocine_df, x='polarity', palette=goodbad_palette)\n",
    "ax.set(xlabel='', ylabel='')\n",
    "ax.set_xticklabels(['Negative', 'Neutral', 'Positive'])\n",
    "\n",
    "# Frenquencies\n",
    "ncount = len(allocine_df)\n",
    "for p in ax.patches:\n",
    "    x=p.get_bbox().get_points()[:,0]\n",
    "    y=p.get_bbox().get_points()[1,1]\n",
    "    ax.annotate('{:.1f}%'.format(100.*y/ncount), (x.mean(), y), \n",
    "            ha='center', va='bottom') # set the alignment of the text\n",
    "\n",
    "# Finalize the plot\n",
    "sns.despine(bottom=True)\n",
    "plt.tight_layout(h_pad=2)\n",
    "\n",
    "# Saving plot\n",
    "fig = ax.get_figure()\n",
    "fig.savefig('img/polarity_frequency.png', dpi=200)"
   ]
  },
  {
   "cell_type": "markdown",
   "metadata": {},
   "source": [
    "## Reviews per year"
   ]
  },
  {
   "cell_type": "code",
   "execution_count": 10,
   "metadata": {
    "metadata": {}
   },
   "outputs": [],
   "source": [
    "allocine_df['date'] = pd.to_datetime(allocine_df['date'])\n",
    "reviews_per_year = allocine_df.groupby(allocine_df['date'].dt.year).size()"
   ]
  },
  {
   "cell_type": "code",
   "execution_count": 11,
   "metadata": {
    "metadata": {},
    "scrolled": true
   },
   "outputs": [
    {
     "name": "stderr",
     "output_type": "stream",
     "text": [
      "C:\\Users\\ASUS\\AppData\\Local\\Temp\\ipykernel_31584\\29496286.py:2: FutureWarning: \n",
      "\n",
      "Passing `palette` without assigning `hue` is deprecated and will be removed in v0.14.0. Assign the `x` variable to `hue` and set `legend=False` for the same effect.\n",
      "\n",
      "  ax = sns.barplot( reviews_per_year.values, palette=\"GnBu_d\")\n"
     ]
    },
    {
     "data": {
      "image/png": "[encoded data removed]",
      "text/plain": [
       "<Figure size 800x500 with 1 Axes>"
      ]
     },
     "metadata": {},
     "output_type": "display_data"
    }
   ],
   "source": [
    "plt.figure(figsize=(8,5))\n",
    "ax = sns.barplot( reviews_per_year.values, palette=\"GnBu_d\")\n",
    "ax.set(xlabel='Year', ylabel='')\n",
    "\n",
    "# Finalize the plot\n",
    "sns.despine(bottom=True)\n",
    "plt.tight_layout(h_pad=2)\n",
    "\n",
    "# Saving plot\n",
    "fig = ax.get_figure()\n",
    "fig.savefig('img/reviews_per_year.png', dpi=200)"
   ]
  },
  {
   "cell_type": "markdown",
   "metadata": {},
   "source": [
    "## Reviews length"
   ]
  },
  {
   "cell_type": "code",
   "execution_count": 12,
   "metadata": {
    "metadata": {}
   },
   "outputs": [
    {
     "name": "stderr",
     "output_type": "stream",
     "text": [
      "C:\\Users\\ASUS\\AppData\\Local\\Temp\\ipykernel_31584\\134165326.py:4: UserWarning: \n",
      "\n",
      "`distplot` is a deprecated function and will be removed in seaborn v0.14.0.\n",
      "\n",
      "Please adapt your code to use either `displot` (a figure-level function with\n",
      "similar flexibility) or `histplot` (an axes-level function for histograms).\n",
      "\n",
      "For a guide to updating your code to use the new functions, please see\n",
      "https://gist.github.com/mwaskom/de44147ed2974457ad6372750bbe5751\n",
      "\n",
      "  ax = sns.distplot(reviews_length, bins=150, kde=False, hist_kws=dict(alpha=0.8))\n"
     ]
    },
    {
     "data": {
      "image/png": "[encoded data removed]",
      "text/plain": [
       "<Figure size 1000x500 with 1 Axes>"
      ]
     },
     "metadata": {},
     "output_type": "display_data"
    }
   ],
   "source": [
    "reviews_length = allocine_df['review'].str.len()\n",
    "\n",
    "plt.figure(figsize=(10,5))\n",
    "ax = sns.distplot(reviews_length, bins=150, kde=False, hist_kws=dict(alpha=0.8))\n",
    "ax.set(xlabel='Review Length')\n",
    "\n",
    "# Finalize the plot\n",
    "sns.despine(bottom=True)\n",
    "plt.tight_layout(h_pad=2)\n",
    "\n",
    "# Saving plot\n",
    "fig = ax.get_figure()\n",
    "fig.savefig('img/reviews_length.png', dpi=200)"
   ]
  },
  {
   "cell_type": "code",
   "execution_count": 13,
   "metadata": {
    "metadata": {}
   },
   "outputs": [
    {
     "name": "stdout",
     "output_type": "stream",
     "text": [
      "18258 reviews with LEN > 2000 (9.19 % of total data)\n"
     ]
    }
   ],
   "source": [
    "THRESHOLD = 2000\n",
    "short_reviews = allocine_df[allocine_df['review'].str.len() <= THRESHOLD]\n",
    "long_reviews =  allocine_df[allocine_df['review'].str.len() > THRESHOLD]\n",
    "\n",
    "print(\"{} reviews with LEN > {} ({:.2f} % of total data)\".format(\n",
    "    len(long_reviews),\n",
    "    THRESHOLD,\n",
    "    100 * len(long_reviews) / len(allocine_df)\n",
    "))"
   ]
  },
  {
   "cell_type": "markdown",
   "metadata": {},
   "source": [
    "Example of a long review"
   ]
  },
  {
   "cell_type": "code",
   "execution_count": 17,
   "metadata": {
    "metadata": {}
   },
   "outputs": [
    {
     "data": {
      "text/html": [
       "<div>\n",
       "<style scoped>\n",
       "    .dataframe tbody tr th:only-of-type {\n",
       "        vertical-align: middle;\n",
       "    }\n",
       "\n",
       "    .dataframe tbody tr th {\n",
       "        vertical-align: top;\n",
       "    }\n",
       "\n",
       "    .dataframe thead th {\n",
       "        text-align: right;\n",
       "    }\n",
       "</style>\n",
       "<table border=\"1\" class=\"dataframe\">\n",
       "  <thead>\n",
       "    <tr style=\"text-align: right;\">\n",
       "      <th></th>\n",
       "      <th>film-url</th>\n",
       "      <th>rating</th>\n",
       "      <th>review</th>\n",
       "      <th>date</th>\n",
       "      <th>helpful</th>\n",
       "      <th>unhelpful</th>\n",
       "      <th>polarity</th>\n",
       "    </tr>\n",
       "  </thead>\n",
       "  <tbody>\n",
       "    <tr>\n",
       "      <th>2</th>\n",
       "      <td>http://www.allocine.fr/film/fichefilm-265567/critiques/spectateurs/</td>\n",
       "      <td>3.5</td>\n",
       "      <td>Allez soyons franc, « 1917 » est un film de guerre maîtrisé de bout en bout qui vaut son pesant de popcorn. Certains diront blockbuster, d’autres film froid qui retrace sans empathie l’expérience de nos ancêtres… personnellement j’opterais pour film à budget moyen qui se démarque en utilisant une technique certes déjà connue et utilisée, mais une technique quand même : le plan séquence. Sam Mendes avait sans doute l’envie de nous faire vivre en temps réel une mission clé de la survie des troupes alliés lors de la Grande Guerre. C’est réussi. La reconstitution des décors et des costumes est tout simplement splendide. Nous sommes immergés dans un no-man’s land des plus terrifiants et authentiques et nous suivons une course contre la montre qui s’apparente à du suicide.&lt;br/&gt;&lt;br/&gt;« 1917 » est donc une bonne retranscription composée de maîtrise historique et technique. Sam Mendes l’a d’ailleurs souligné dans une de ses interviews : « Très peu de films évoquent la Première Guerre Mondiale car c’est une guerre immobile qui consistait à attendre des jours et des jours dans les tranchées pour finalement mourir 200 ou 300 mètres plus loin ». L’originalité de ce film, c’est la singularité d’une petite mission intégrée dans la guerre. Rajouter une petite histoire dans l’histoire.&lt;br/&gt;&lt;br/&gt;Contrairement à un film comme « Dunkerque » de Christopher Nolan, « 1917 » ne fait pas un documentaire de la guerre et n’hésite pas à nous donner une dimension héroïque (et ce sans en faire des tonnes non plus). Un homme pour en sauver 1 600 autres, 1 600 autres comme lui. La mission aurait pu être assignée à lui ou à un autre, la finalité aurait été la même. D’où l’importance d’un personnage que l’on suit et qui a un impact tout au long de l’histoire sans pour autant être mis sur un piédestal.&lt;br/&gt;&lt;br/&gt;En résumé, « 1917 » est un film prenant et abouti où très peu de défauts peuvent être décelés en termes de technique ou de procédés utilisés. On se croit vraiment sur place avec les poilus. Reste à savoir si c’est un film qui pousse à la réflexion ? Pas nécessairement. Bien entendu on peut repenser aux horreurs de la guerre (villages rasés, faune et flore dévastés) et la souffrance vécue dans les tranchées. Malheureusement ce n’est pas l’objet du film et l’empathie reste assez « légère » dans la narration. Belle claque visuelle toutefois.</td>\n",
       "      <td>2020-01-20</td>\n",
       "      <td>46</td>\n",
       "      <td>31</td>\n",
       "      <td>0</td>\n",
       "    </tr>\n",
       "  </tbody>\n",
       "</table>\n",
       "</div>"
      ],
      "text/plain": [
       "                                                              film-url  \\\n",
       "2  http://www.allocine.fr/film/fichefilm-265567/critiques/spectateurs/   \n",
       "\n",
       "   rating  \\\n",
       "2     3.5   \n",
       "\n",
       "                                                                                                                                                                                                                                                                                                                                                                                                                                                                                                                                                                                                                                                                                                                                                                                                                                                                                                                                                                                                                                                                                                                                                                                                                                                                                                                                                                                                                                                                                                                                                                                                                                                                                                                                                                                                                                                                                                                                                                                                                                                                                                                                                                                                                                                                                                                                                                                                                                            review  \\\n",
       "2  Allez soyons franc, « 1917 » est un film de guerre maîtrisé de bout en bout qui vaut son pesant de popcorn. Certains diront blockbuster, d’autres film froid qui retrace sans empathie l’expérience de nos ancêtres… personnellement j’opterais pour film à budget moyen qui se démarque en utilisant une technique certes déjà connue et utilisée, mais une technique quand même : le plan séquence. Sam Mendes avait sans doute l’envie de nous faire vivre en temps réel une mission clé de la survie des troupes alliés lors de la Grande Guerre. C’est réussi. La reconstitution des décors et des costumes est tout simplement splendide. Nous sommes immergés dans un no-man’s land des plus terrifiants et authentiques et nous suivons une course contre la montre qui s’apparente à du suicide.<br/><br/>« 1917 » est donc une bonne retranscription composée de maîtrise historique et technique. Sam Mendes l’a d’ailleurs souligné dans une de ses interviews : « Très peu de films évoquent la Première Guerre Mondiale car c’est une guerre immobile qui consistait à attendre des jours et des jours dans les tranchées pour finalement mourir 200 ou 300 mètres plus loin ». L’originalité de ce film, c’est la singularité d’une petite mission intégrée dans la guerre. Rajouter une petite histoire dans l’histoire.<br/><br/>Contrairement à un film comme « Dunkerque » de Christopher Nolan, « 1917 » ne fait pas un documentaire de la guerre et n’hésite pas à nous donner une dimension héroïque (et ce sans en faire des tonnes non plus). Un homme pour en sauver 1 600 autres, 1 600 autres comme lui. La mission aurait pu être assignée à lui ou à un autre, la finalité aurait été la même. D’où l’importance d’un personnage que l’on suit et qui a un impact tout au long de l’histoire sans pour autant être mis sur un piédestal.<br/><br/>En résumé, « 1917 » est un film prenant et abouti où très peu de défauts peuvent être décelés en termes de technique ou de procédés utilisés. On se croit vraiment sur place avec les poilus. Reste à savoir si c’est un film qui pousse à la réflexion ? Pas nécessairement. Bien entendu on peut repenser aux horreurs de la guerre (villages rasés, faune et flore dévastés) et la souffrance vécue dans les tranchées. Malheureusement ce n’est pas l’objet du film et l’empathie reste assez « légère » dans la narration. Belle claque visuelle toutefois.   \n",
       "\n",
       "        date  helpful  unhelpful  polarity  \n",
       "2 2020-01-20       46         31         0  "
      ]
     },
     "execution_count": 17,
     "metadata": {},
     "output_type": "execute_result"
    }
   ],
   "source": [
    "long_reviews.head(1)"
   ]
  },
  {
   "cell_type": "code",
   "execution_count": 18,
   "metadata": {
    "metadata": {}
   },
   "outputs": [
    {
     "name": "stderr",
     "output_type": "stream",
     "text": [
      "C:\\Users\\ASUS\\AppData\\Local\\Temp\\ipykernel_31584\\1813349319.py:4: UserWarning: \n",
      "\n",
      "`distplot` is a deprecated function and will be removed in seaborn v0.14.0.\n",
      "\n",
      "Please adapt your code to use either `displot` (a figure-level function with\n",
      "similar flexibility) or `histplot` (an axes-level function for histograms).\n",
      "\n",
      "For a guide to updating your code to use the new functions, please see\n",
      "https://gist.github.com/mwaskom/de44147ed2974457ad6372750bbe5751\n",
      "\n",
      "  ax = sns.distplot(short_reviews_length, bins=100, kde=False, hist_kws=dict(alpha=0.8))\n"
     ]
    },
    {
     "data": {
      "image/png": "[encoded data removed]",
      "text/plain": [
       "<Figure size 800x500 with 1 Axes>"
      ]
     },
     "metadata": {},
     "output_type": "display_data"
    }
   ],
   "source": [
    "short_reviews_length = short_reviews['review'].str.len()\n",
    "\n",
    "plt.figure(figsize=(8,5))\n",
    "ax = sns.distplot(short_reviews_length, bins=100, kde=False, hist_kws=dict(alpha=0.8))\n",
    "ax.set(xlabel='Review Length')\n",
    "\n",
    "# Finalize the plot\n",
    "sns.despine(bottom=True)\n",
    "plt.tight_layout(h_pad=2)\n",
    "\n",
    "# Saving plot\n",
    "fig = ax.get_figure()\n",
    "fig.savefig('img/short_reviews_length.png', dpi=200)"
   ]
  },
  {
   "cell_type": "code",
   "execution_count": null,
   "metadata": {},
   "outputs": [],
   "source": [
    "# TODO: other analysis ?\n",
    "# Histograms of reviews lengths for each rating (negative reviews are shorter ?)"
   ]
  },
  {
   "cell_type": "code",
   "execution_count": null,
   "metadata": {
    "scrolled": true
   },
   "outputs": [],
   "source": [
    "# Num reviews per film ? => why are we limiting to 30 reviews per film ?"
   ]
  },
  {
   "cell_type": "code",
   "execution_count": null,
   "metadata": {},
   "outputs": [],
   "source": []
  },
  {
   "cell_type": "code",
   "execution_count": null,
   "metadata": {},
   "outputs": [],
   "source": []
  },
  {
   "cell_type": "markdown",
   "metadata": {
    "scrolled": false
   },
   "source": [
    "# Build dataset"
   ]
  },
  {
   "cell_type": "code",
   "execution_count": 19,
   "metadata": {
    "metadata": {}
   },
   "outputs": [
    {
     "name": "stdout",
     "output_type": "stream",
     "text": [
      "Length: 198724\n"
     ]
    }
   ],
   "source": [
    "dataset_df = allocine_df.copy()\n",
    "initial_len = len(dataset_df)\n",
    "print(\"Length: {}\".format(initial_len))"
   ]
  },
  {
   "cell_type": "markdown",
   "metadata": {},
   "source": [
    "## Remove data we don't need "
   ]
  },
  {
   "cell_type": "code",
   "execution_count": 20,
   "metadata": {
    "metadata": {}
   },
   "outputs": [],
   "source": [
    "def loss_percentage(df, previous_length):\n",
    "    new_length = len(df)\n",
    "    percentage = 100*(1-(new_length/previous_length))    \n",
    "    return new_length, percentage  "
   ]
  },
  {
   "cell_type": "code",
   "execution_count": 21,
   "metadata": {
    "metadata": {},
    "scrolled": true
   },
   "outputs": [
    {
     "name": "stdout",
     "output_type": "stream",
     "text": [
      "Length: 138239 (-30.4 %)\n",
      "Length: 125791 (-9.0 %)\n",
      "Total loss: (-36.7 %)\n"
     ]
    }
   ],
   "source": [
    "# 1. Drop columns we don't need\n",
    "dataset_df = dataset_df.drop(columns=['rating', 'date', 'helpful', 'unhelpful'])\n",
    "\n",
    "# 2. Drop rows we don't need (neutral polarity)\n",
    "dataset_df = dataset_df[dataset_df['polarity'] != 0]\n",
    "length, percentage = loss_percentage(dataset_df, initial_len)\n",
    "print(\"Length: {} (-{:.1f} %)\".format(length, percentage))\n",
    "\n",
    "# 3. Remove long reviews\n",
    "LENGTH_THRESH = 2000\n",
    "dataset_df = dataset_df[dataset_df['review'].str.len() <= LENGTH_THRESH]\n",
    "length, percentage = loss_percentage(dataset_df, length)\n",
    "print(\"Length: {} (-{:.1f} %)\".format(length, percentage))\n",
    "\n",
    "# 4. Limit number of reviews per film\n",
    "\"\"\"\n",
    "MAX_REVIEWS_PER_FILM = 30\n",
    "grouped = dataset_df.groupby('film-url')\n",
    "for ids in grouped.groups.values():\n",
    "    num_reviews = len(ids)    \n",
    "    if num_reviews > MAX_REVIEWS_PER_FILM:\n",
    "        sampling_size = num_reviews - MAX_REVIEWS_PER_FILM\n",
    "        ids_to_drop = random.sample(list(ids), sampling_size)\n",
    "        dataset_df = dataset_df.drop(ids_to_drop)\n",
    "        \n",
    "length, percentage = loss_percentage(dataset_df, length)\n",
    "print(\"Length: {} (-{:.1f} %)\".format(length, percentage))\n",
    "\"\"\"\n",
    "# Total loss\n",
    "length, percentage = loss_percentage(dataset_df, initial_len)\n",
    "print(\"Total loss: (-{:.1f} %)\".format(percentage))"
   ]
  },
  {
   "cell_type": "code",
   "execution_count": 22,
   "metadata": {
    "metadata": {}
   },
   "outputs": [],
   "source": [
    "# Change -1 to 0 for negative polarity\n",
    "dataset_df.loc[dataset_df['polarity'] == -1, 'polarity'] = 0"
   ]
  },
  {
   "cell_type": "code",
   "execution_count": 23,
   "metadata": {
    "metadata": {},
    "scrolled": false
   },
   "outputs": [
    {
     "data": {
      "text/plain": [
       "polarity\n",
       "0    51624\n",
       "1    74167\n",
       "dtype: int64"
      ]
     },
     "execution_count": 23,
     "metadata": {},
     "output_type": "execute_result"
    }
   ],
   "source": [
    "dataset_df.groupby('polarity').size()"
   ]
  },
  {
   "cell_type": "markdown",
   "metadata": {},
   "source": [
    "## Clean review text"
   ]
  },
  {
   "cell_type": "code",
   "execution_count": 24,
   "metadata": {
    "metadata": {}
   },
   "outputs": [],
   "source": [
    "import re\n",
    "\n",
    "def clean_text(text):\n",
    "    text = text.replace('\\xa0', ' ')\n",
    "    text = text.replace('\\x92', \"'\")\n",
    "    \n",
    "    # Substituting multiple spaces with single space\n",
    "    # Also remove '\\n' and '\\r' occurences\n",
    "    text= re.sub(r'\\s+', ' ', text, flags=re.I)\n",
    "    \n",
    "    return text\n",
    " \n",
    "dataset_df['review'] = dataset_df['review'].apply(clean_text)"
   ]
  },
  {
   "cell_type": "markdown",
   "metadata": {},
   "source": [
    "## Remove empty reviews"
   ]
  },
  {
   "cell_type": "code",
   "execution_count": 25,
   "metadata": {
    "metadata": {}
   },
   "outputs": [],
   "source": [
    "# Remove reviews with less than 3 characters\n",
    "# Done after text processing on purpose\n",
    "dataset_df = dataset_df[dataset_df['review'].str.len() > 2]"
   ]
  },
  {
   "cell_type": "code",
   "execution_count": 26,
   "metadata": {
    "metadata": {}
   },
   "outputs": [
    {
     "data": {
      "text/html": [
       "<div>\n",
       "<style scoped>\n",
       "    .dataframe tbody tr th:only-of-type {\n",
       "        vertical-align: middle;\n",
       "    }\n",
       "\n",
       "    .dataframe tbody tr th {\n",
       "        vertical-align: top;\n",
       "    }\n",
       "\n",
       "    .dataframe thead th {\n",
       "        text-align: right;\n",
       "    }\n",
       "</style>\n",
       "<table border=\"1\" class=\"dataframe\">\n",
       "  <thead>\n",
       "    <tr style=\"text-align: right;\">\n",
       "      <th></th>\n",
       "      <th>film-url</th>\n",
       "      <th>review</th>\n",
       "      <th>polarity</th>\n",
       "    </tr>\n",
       "  </thead>\n",
       "  <tbody>\n",
       "    <tr>\n",
       "      <th>118339</th>\n",
       "      <td>https://www.allocine.fr/film/fichefilm-43023/critiques/spectateurs/</td>\n",
       "      <td>Grotesque... Ce film, si on peut appeler ça un film, est ridicule ! On réchauffe le premier opus en y introduisant des acteurs mauvais et un peu plus de sang... Fuyez !</td>\n",
       "      <td>0</td>\n",
       "    </tr>\n",
       "    <tr>\n",
       "      <th>101323</th>\n",
       "      <td>https://www.allocine.fr/film/fichefilm-103409/critiques/spectateurs/</td>\n",
       "      <td>Un trés grand Western signé Phil Karlson dont c'est le premier long métrage que je visionne de ce cinéaste méconnu et dont il me tarde de voir le reste de sa filmographie !! J'ai regardé ce film par curiosité pour l'un des acteurs principaux qui se nomme Van Heflin dont j'ai apprécié le peu de longs métrages que j'ai vu qui choisit bien ses roles et dans ce qu'il a tourné. \"Le salaire de la violence\" est un Western dramatique familiale, deux frères de retour dans le ranch de leur père à la personnalité opposés, l'un innocent amoureux d'une Indienne mais l'autre qui doit avoir le diable dans la peau tuant par supposé accident le frère de l'Indienne cité dans un ravin se souciant plus du cheval de famille que de la personne. La suite va se compliquer pour la famille, tribunal, meurtres de sang froid, racisme et autres points négatives pour le mauvais fils. Une trés bonne surprise que ce film qui commençait de façon classique et plus ça avance, plus ça devient glaciale à proprement parlé. Une parfaite mise en scène dans des décors somptueux pour un Western. Je classerais \"Le salaire de la violence\" parmi les sommets du genre. Van Heflin, Tab Hunter et les autres comédiens et actrices sont excellents. Grandiose.</td>\n",
       "      <td>1</td>\n",
       "    </tr>\n",
       "    <tr>\n",
       "      <th>30449</th>\n",
       "      <td>https://www.allocine.fr/film/fichefilm-9432/critiques/spectateurs/</td>\n",
       "      <td>Que dire sinon que c'est un film formidable, intelligent et provocateur. Les acteurs sont au sommet de leur art, le duo est parfait. Pour sublimer le tout, une bande originale marquée par une chanson géniale de Bruce Springsteen. Que demander de plus?</td>\n",
       "      <td>1</td>\n",
       "    </tr>\n",
       "    <tr>\n",
       "      <th>93252</th>\n",
       "      <td>https://www.allocine.fr/film/fichefilm-218483/critiques/spectateurs/</td>\n",
       "      <td>Fan des deux premiers films, j'ai vu celui ci en avant-première. C'est dans le ton des autres, tout en étant suffisamment original, plein de fantaisie et d'inventivité, avec des personnages récurrents et des nouveaux qu'on n'attendrait pas dans ce registre... C'est bien huilé, ça fonctionne. Des scènes hilarantes et totalement inattendues, dont avec un acteur célèbre qui joue son propre rôle et se moque de lui même. Un bon moment !</td>\n",
       "      <td>1</td>\n",
       "    </tr>\n",
       "    <tr>\n",
       "      <th>140071</th>\n",
       "      <td>https://www.allocine.fr/film/fichefilm-45685/critiques/spectateurs/</td>\n",
       "      <td>mouai j'adore le jeu tomb raider mais les films.....il y en a pas un pour rattraper l'autre!</td>\n",
       "      <td>0</td>\n",
       "    </tr>\n",
       "  </tbody>\n",
       "</table>\n",
       "</div>"
      ],
      "text/plain": [
       "                                                                    film-url  \\\n",
       "118339   https://www.allocine.fr/film/fichefilm-43023/critiques/spectateurs/   \n",
       "101323  https://www.allocine.fr/film/fichefilm-103409/critiques/spectateurs/   \n",
       "30449     https://www.allocine.fr/film/fichefilm-9432/critiques/spectateurs/   \n",
       "93252   https://www.allocine.fr/film/fichefilm-218483/critiques/spectateurs/   \n",
       "140071   https://www.allocine.fr/film/fichefilm-45685/critiques/spectateurs/   \n",
       "\n",
       "                                                                                                                                                                                                                                                                                                                                                                                                                                                                                                                                                                                                                                                                                                                                                                                                                                                                                                                                                                                                                                                                                                                                                                                                                                                                             review  \\\n",
       "118339                                                                                                                                                                                                                                                                                                                                                                                                                                                                                                                                                                                                                                                                                                                                                                                                                                                                                                                                                                                                                                                                                                     Grotesque... Ce film, si on peut appeler ça un film, est ridicule ! On réchauffe le premier opus en y introduisant des acteurs mauvais et un peu plus de sang... Fuyez !   \n",
       "101323  Un trés grand Western signé Phil Karlson dont c'est le premier long métrage que je visionne de ce cinéaste méconnu et dont il me tarde de voir le reste de sa filmographie !! J'ai regardé ce film par curiosité pour l'un des acteurs principaux qui se nomme Van Heflin dont j'ai apprécié le peu de longs métrages que j'ai vu qui choisit bien ses roles et dans ce qu'il a tourné. \"Le salaire de la violence\" est un Western dramatique familiale, deux frères de retour dans le ranch de leur père à la personnalité opposés, l'un innocent amoureux d'une Indienne mais l'autre qui doit avoir le diable dans la peau tuant par supposé accident le frère de l'Indienne cité dans un ravin se souciant plus du cheval de famille que de la personne. La suite va se compliquer pour la famille, tribunal, meurtres de sang froid, racisme et autres points négatives pour le mauvais fils. Une trés bonne surprise que ce film qui commençait de façon classique et plus ça avance, plus ça devient glaciale à proprement parlé. Une parfaite mise en scène dans des décors somptueux pour un Western. Je classerais \"Le salaire de la violence\" parmi les sommets du genre. Van Heflin, Tab Hunter et les autres comédiens et actrices sont excellents. Grandiose.   \n",
       "30449                                                                                                                                                                                                                                                                                                                                                                                                                                                                                                                                                                                                                                                                                                                                                                                                                                                                                                                                                                                                                   Que dire sinon que c'est un film formidable, intelligent et provocateur. Les acteurs sont au sommet de leur art, le duo est parfait. Pour sublimer le tout, une bande originale marquée par une chanson géniale de Bruce Springsteen. Que demander de plus?   \n",
       "93252                                                                                                                                                                                                                                                                                                                                                                                                                                                                                                                                                                                                                                                                                                                                                                                                                           Fan des deux premiers films, j'ai vu celui ci en avant-première. C'est dans le ton des autres, tout en étant suffisamment original, plein de fantaisie et d'inventivité, avec des personnages récurrents et des nouveaux qu'on n'attendrait pas dans ce registre... C'est bien huilé, ça fonctionne. Des scènes hilarantes et totalement inattendues, dont avec un acteur célèbre qui joue son propre rôle et se moque de lui même. Un bon moment !   \n",
       "140071                                                                                                                                                                                                                                                                                                                                                                                                                                                                                                                                                                                                                                                                                                                                                                                                                                                                                                                                                                                                                                                                                                                                                                                 mouai j'adore le jeu tomb raider mais les films.....il y en a pas un pour rattraper l'autre!   \n",
       "\n",
       "        polarity  \n",
       "118339         0  \n",
       "101323         1  \n",
       "30449          1  \n",
       "93252          1  \n",
       "140071         0  "
      ]
     },
     "execution_count": 26,
     "metadata": {},
     "output_type": "execute_result"
    }
   ],
   "source": [
    "dataset_df.sample(5, random_state=42)"
   ]
  },
  {
   "cell_type": "code",
   "execution_count": null,
   "metadata": {},
   "outputs": [],
   "source": []
  },
  {
   "cell_type": "markdown",
   "metadata": {},
   "source": [
    "## Balance classes"
   ]
  },
  {
   "cell_type": "code",
   "execution_count": 27,
   "metadata": {
    "metadata": {}
   },
   "outputs": [
    {
     "data": {
      "text/plain": [
       "51624"
      ]
     },
     "execution_count": 27,
     "metadata": {},
     "output_type": "execute_result"
    }
   ],
   "source": [
    "min_num = min(dataset_df.groupby('polarity').size())\n",
    "min_num"
   ]
  },
  {
   "cell_type": "code",
   "execution_count": 28,
   "metadata": {
    "metadata": {}
   },
   "outputs": [],
   "source": [
    "# The overall distribution of labels is balanced (100k pos and 100k neg).\n",
    "# We don't have to have train and testset perfectly balanced\n",
    "\n",
    "balanced_df = dataset_df.copy()\n",
    "\n",
    "MAX_REVIEWS_PER_POLARITY = min_num # ~ 100000\n",
    "# 4. Limit number of reviews per film\n",
    "grouped = balanced_df.groupby('polarity')\n",
    "for ids in grouped.groups.values():\n",
    "    num_reviews = len(ids)    \n",
    "    if num_reviews > MAX_REVIEWS_PER_POLARITY:\n",
    "        sampling_size = num_reviews - MAX_REVIEWS_PER_POLARITY\n",
    "        ids_to_drop = random.sample(list(ids), sampling_size)\n",
    "        balanced_df = balanced_df.drop(ids_to_drop)"
   ]
  },
  {
   "cell_type": "code",
   "execution_count": 29,
   "metadata": {
    "metadata": {}
   },
   "outputs": [
    {
     "name": "stdout",
     "output_type": "stream",
     "text": [
      "polarity\n",
      "0    51624\n",
      "1    51624\n",
      "dtype: int64\n"
     ]
    },
    {
     "data": {
      "text/html": [
       "<div>\n",
       "<style scoped>\n",
       "    .dataframe tbody tr th:only-of-type {\n",
       "        vertical-align: middle;\n",
       "    }\n",
       "\n",
       "    .dataframe tbody tr th {\n",
       "        vertical-align: top;\n",
       "    }\n",
       "\n",
       "    .dataframe thead th {\n",
       "        text-align: right;\n",
       "    }\n",
       "</style>\n",
       "<table border=\"1\" class=\"dataframe\">\n",
       "  <thead>\n",
       "    <tr style=\"text-align: right;\">\n",
       "      <th></th>\n",
       "      <th>film-url</th>\n",
       "      <th>review</th>\n",
       "      <th>polarity</th>\n",
       "    </tr>\n",
       "  </thead>\n",
       "  <tbody>\n",
       "    <tr>\n",
       "      <th>51571</th>\n",
       "      <td>https://www.allocine.fr/film/fichefilm-189651/critiques/spectateurs/</td>\n",
       "      <td>Comment ce film peut il avoir une aussi bonne note? Les seuls Points positifs: les acteurs tiennent bien leurs rôles comme d'habitude. La suite du 5 est bien faite. Ok, ce film est un film d'actions, de tirs, de courses! On voit de belles voitures, de belles courses mais bordel qu'est ce que c'est exagéré!! Pourquoi ne pas s'en tenir à des scènes bien sans forcé dans l'excès?! La scène du pont ou Vin Diesel saute de sa voiture est juste très marrante! La salle (remplie) en a rit!!! Seconde chose, une scène d'action avec un avion, Ok, mais c'était la piste la plus longue du monde! 15min d'actions et l'avion toujours au sol sur la piste en train de prendre son élan! Incohérent! Déception. Cette saga est déjà culte mais ça serait bien de voir un Fast And Furious avec un peu plus de réalité!!!!</td>\n",
       "      <td>0</td>\n",
       "    </tr>\n",
       "    <tr>\n",
       "      <th>53583</th>\n",
       "      <td>https://www.allocine.fr/film/fichefilm-36757/critiques/spectateurs/</td>\n",
       "      <td>\" Do you do you do Saint-Tropez , Do you do you do Saint-Tropez , lala la lalala.....\" , comment oublié la série culte avec Louis de Funes et Michel Galabru. Jamais!!! Une bonne comédie française et irrésistible sous le soleil et la plage de Saint-Tropez. La première enquête du Maréchal des logis chef Cruchot et pétillante. Le casting est séduisant et la mise en scène est correct. Une aventure pleine de fous rire et exotique.</td>\n",
       "      <td>1</td>\n",
       "    </tr>\n",
       "    <tr>\n",
       "      <th>12153</th>\n",
       "      <td>http://www.allocine.fr/film/fichefilm-108998/critiques/spectateurs/</td>\n",
       "      <td>Le Prestige de Christopher Nolan est comme son titre l'indique, prestigieux ! Un de mes coups de coeur de l'année 2006, on regarde le film comme on assiste à un bon tour de magie et c'est complètement bluffé que l'on ressort de la salle (ça été mon cas). L'histoire qui est assez exceptionnelle (il ne faut surtout pas être inattentif plus d'une seconde) et tortueuse nous emmène dans un autre monde de faux-semblants où les apparences peuvent se revéler trompeuses. L'ambiance du film est comme je les aime, très sombre et les acteurs convaincants dont un Christian Bale qui ne cesse de grimper dans mon estime. Bref Nolan a frappé très fort avec ce petit chef d'oeuvre qu'il me tarde de redécouvrir en dvd !</td>\n",
       "      <td>1</td>\n",
       "    </tr>\n",
       "    <tr>\n",
       "      <th>139002</th>\n",
       "      <td>https://www.allocine.fr/film/fichefilm-1815/critiques/spectateurs/</td>\n",
       "      <td>Certainement l'un des meilleurs Bond, la première apparition de la DB5, on peut vraiment dire que ceux film vaut de l'or ! Mauvais jeux de mots^^</td>\n",
       "      <td>1</td>\n",
       "    </tr>\n",
       "    <tr>\n",
       "      <th>125367</th>\n",
       "      <td>https://www.allocine.fr/film/fichefilm-229765/critiques/spectateurs/</td>\n",
       "      <td>\"Criminal - Un espion dans la tête\" est un titre imagé qui résume et présente déjà l'histoire et au fond, ce n'est déjà peut-être pas la meilleure idée qui soit en insistant tant sur ce point !&lt;br/&gt;Maintenant, le traitement général de cette réalisation est typiquement américain, et donne ainsi l'impression d'avoir déjà vu cent fois ce type d'histoire...&lt;br/&gt;CIA et camp adverse, hacker et complot dangereux pour le monde entier, tout est réuni comme à l'habitude !&lt;br/&gt;Mais on y ajoute le passage d'un esprit venu d'un espion décédé dans l'enveloppe charnelle d'un dangereux criminel psychopathe, ce qui aurait pu faire espérer au moins une différence, même si là aussi, ce thème devient récurrent au cinéma.&lt;br/&gt;Mais non, ce point pourtant central n'influe pas plus que cela l'enjeu du film mais permet plutôt à Kevin Costner de tenir la dragée haute jusqu'au bout du bout, dont on a d'ailleurs vite deviné l'issue.&lt;br/&gt;Alors que justement, il aurait fallu creuser le sujet et développer l'aspect SF, un peu comme ce qui avait été entrepris dans \"Renaissances\" à mon avis déjà plus intéressant.&lt;br/&gt;Au fond, un rôle et un film taillés pour l'acteur toujours seul et très fort contre tous, avec une dose de \"Bad boy\" très méchant, de l'action, des rebondissements plus ou moins cohérents et bien sûr la petite dose de romantisme et de sentimentalisme pour humaniser cette brute sanguinaire !&lt;br/&gt;La fin correspond évidemment à ce que l'on l'attendait...&lt;br/&gt;Pas bien original, ne renouvelant absolument pas le genre, cette énième réalisation standardisée de Ariel Vromen, ne fait que surfer sur des lieux communs et on s'ennuie très vite !</td>\n",
       "      <td>0</td>\n",
       "    </tr>\n",
       "    <tr>\n",
       "      <th>181040</th>\n",
       "      <td>https://www.allocine.fr/film/fichefilm-27662/critiques/spectateurs/</td>\n",
       "      <td>Culte ! A ne manquer sous aucun prétextes !&lt;br/&gt;Une claque dans votre tronche, vous ne tendiez pourtant pas la joue ce qui surprend encore plus ...&lt;br/&gt;Et oui car en lisant le résumé on est pas forcément très emballé et on y va sans trop de convictions, j'ai attendu presque 1 an entre la découverte et le visionnage de ce bijou. Bon en cherchant bien sans forcer, on voit bien qu'il manque 2 ou 3 trucs pour en faire un chef d'oeuvre mais moi je lui donne ce statut, un véritable coup de coeur. Au vu des moyens \"underground\" utilisés pour le film c'est du très lourd. Vincent Gallo au four et au moulin dans son film donc, le garçon a beaucoup de talent à revendre dans les deux fonctions.&lt;br/&gt;&lt;br/&gt;J'ai vu que ce film n'avait pas eu grand succès auprès des festivals, une fois que vous l'aurez vu vous lui donneriez pourtant des prix pour son scénario et pour ses acteurs (principaux comme secondaires!)&lt;br/&gt;J'ai trouvé le scénario tellement original et la réalisation tellement chouette et personnel !&lt;br/&gt;Le mieux c'est d'y aller les yeux fermés, vous ne serez que surpris davantage par ce film plein de fraîcheur et de magnétisme.</td>\n",
       "      <td>1</td>\n",
       "    </tr>\n",
       "    <tr>\n",
       "      <th>123590</th>\n",
       "      <td>https://www.allocine.fr/film/fichefilm-235757/critiques/spectateurs/</td>\n",
       "      <td>Un film portant le nom du réalisateur Jaume Balaguero attire l’œil, du fait des très bons souvenirs de \"La Secte Sans Nom\", \"Fragile\" ou \"REC\" !&lt;br/&gt;&lt;br/&gt;Après l'envie, on passe à la réalité de cette oeuvre, soit disant d'épouvante, sur le thème des Muses. Présenté sous forme d'enquête à rebondissements scénaristiques mous, dans une ambiance plate, et quelques passages qui auraient pus faire peur si ils avaient été vraiment appuyés, on sent l'ennuie venir et nous cerner jusqu'à la conclusion dite macabre.&lt;br/&gt;&lt;br/&gt;Plus 1h40 c'est vraiment trop long, avec des personnages et des muses qui ne donnent pas de sentiments d'effroi de peur. Si vous voulez voir une enquête fantastique sans prise de tête, foncez !, si vous voulez un film d'épouvante pour un soirée horrifique, passez votre chemin, le cauchemar est resté dans l'immeuble du premier Rec !&lt;br/&gt;À plus sur aujourdhuichezyoyovideo.blogspot.fr !</td>\n",
       "      <td>0</td>\n",
       "    </tr>\n",
       "    <tr>\n",
       "      <th>7099</th>\n",
       "      <td>http://www.allocine.fr/film/fichefilm-256874/critiques/spectateurs/</td>\n",
       "      <td>sublime, à voir absolument.&lt;br/&gt;pour l'animation, pour l'histoire dans l'histoire, on y rentre dès le début et on ne lâche plus jusqu'à la fin.&lt;br/&gt;je vous conseille d'y aller seul ou avec vos enfants. la symbolique des singes est très bien trouvée, même si ça se passe au début de l'aire du capitalisme, pour nous montrer indirectement la folie du monde actuel.&lt;br/&gt;film intelligent et positif, j'en suis ressortie pleine de joie.</td>\n",
       "      <td>1</td>\n",
       "    </tr>\n",
       "    <tr>\n",
       "      <th>190456</th>\n",
       "      <td>https://www.allocine.fr/film/fichefilm-183297/critiques/spectateurs/</td>\n",
       "      <td>Il est facile de descendre ce film étant donné que ce cinéaste a toujours été nul, post-nouvelle vague mais là, il n'y a que de la complaisance autant envers la nudité et que de l'homosexualité, le tout en employant un acteur de hard comme c'est la mode. C'est dire le naufrage du cinéma français pour un \"auteur\" qui n'est là que pour raconter sa vie. Le naufrage est à tous les étages.</td>\n",
       "      <td>0</td>\n",
       "    </tr>\n",
       "    <tr>\n",
       "      <th>135220</th>\n",
       "      <td>https://www.allocine.fr/film/fichefilm-145962/critiques/spectateurs/</td>\n",
       "      <td>Au début l'histoire promet par la suite ouille ! ça devient pâteux et cela nous mène nulle part. A part ça, jolie animation graphique. Ce qui ressort le plus dans cette anime c'est la composition de Tenmon, une musique assez proche de Joe Hisaishi avec moins d'ampleur, mais les morceaux sont présent quasi tout le long sous une harmonicité au diapason proche.</td>\n",
       "      <td>0</td>\n",
       "    </tr>\n",
       "  </tbody>\n",
       "</table>\n",
       "</div>"
      ],
      "text/plain": [
       "                                                                    film-url  \\\n",
       "51571   https://www.allocine.fr/film/fichefilm-189651/critiques/spectateurs/   \n",
       "53583    https://www.allocine.fr/film/fichefilm-36757/critiques/spectateurs/   \n",
       "12153    http://www.allocine.fr/film/fichefilm-108998/critiques/spectateurs/   \n",
       "139002    https://www.allocine.fr/film/fichefilm-1815/critiques/spectateurs/   \n",
       "125367  https://www.allocine.fr/film/fichefilm-229765/critiques/spectateurs/   \n",
       "181040   https://www.allocine.fr/film/fichefilm-27662/critiques/spectateurs/   \n",
       "123590  https://www.allocine.fr/film/fichefilm-235757/critiques/spectateurs/   \n",
       "7099     http://www.allocine.fr/film/fichefilm-256874/critiques/spectateurs/   \n",
       "190456  https://www.allocine.fr/film/fichefilm-183297/critiques/spectateurs/   \n",
       "135220  https://www.allocine.fr/film/fichefilm-145962/critiques/spectateurs/   \n",
       "\n",
       "                                                                                                                                                                                                                                                                                                                                                                                                                                                                                                                                                                                                                                                                                                                                                                                                                                                                                                                                                                                                                                                                                                                                                                                                                                                                                                                                                                                                                                                                                                                                                                                                                                                                                                           review  \\\n",
       "51571                                                                                                                                                                                                                                                                                                                                                                                                                                                                                                                                                                                                                                                                                                                                                                                                                                                                           Comment ce film peut il avoir une aussi bonne note? Les seuls Points positifs: les acteurs tiennent bien leurs rôles comme d'habitude. La suite du 5 est bien faite. Ok, ce film est un film d'actions, de tirs, de courses! On voit de belles voitures, de belles courses mais bordel qu'est ce que c'est exagéré!! Pourquoi ne pas s'en tenir à des scènes bien sans forcé dans l'excès?! La scène du pont ou Vin Diesel saute de sa voiture est juste très marrante! La salle (remplie) en a rit!!! Seconde chose, une scène d'action avec un avion, Ok, mais c'était la piste la plus longue du monde! 15min d'actions et l'avion toujours au sol sur la piste en train de prendre son élan! Incohérent! Déception. Cette saga est déjà culte mais ça serait bien de voir un Fast And Furious avec un peu plus de réalité!!!!   \n",
       "53583                                                                                                                                                                                                                                                                                                                                                                                                                                                                                                                                                                                                                                                                                                                                                                                                                                                                                                                                                                                                                                                                                                                                                                                                                                                               \" Do you do you do Saint-Tropez , Do you do you do Saint-Tropez , lala la lalala.....\" , comment oublié la série culte avec Louis de Funes et Michel Galabru. Jamais!!! Une bonne comédie française et irrésistible sous le soleil et la plage de Saint-Tropez. La première enquête du Maréchal des logis chef Cruchot et pétillante. Le casting est séduisant et la mise en scène est correct. Une aventure pleine de fous rire et exotique.   \n",
       "12153                                                                                                                                                                                                                                                                                                                                                                                                                                                                                                                                                                                                                                                                                                                                                                                                                                                                                                                                                                       Le Prestige de Christopher Nolan est comme son titre l'indique, prestigieux ! Un de mes coups de coeur de l'année 2006, on regarde le film comme on assiste à un bon tour de magie et c'est complètement bluffé que l'on ressort de la salle (ça été mon cas). L'histoire qui est assez exceptionnelle (il ne faut surtout pas être inattentif plus d'une seconde) et tortueuse nous emmène dans un autre monde de faux-semblants où les apparences peuvent se revéler trompeuses. L'ambiance du film est comme je les aime, très sombre et les acteurs convaincants dont un Christian Bale qui ne cesse de grimper dans mon estime. Bref Nolan a frappé très fort avec ce petit chef d'oeuvre qu'il me tarde de redécouvrir en dvd !   \n",
       "139002                                                                                                                                                                                                                                                                                                                                                                                                                                                                                                                                                                                                                                                                                                                                                                                                                                                                                                                                                                                                                                                                                                                                                                                                                                                                                                                                                                                                                                                                                                                                                          Certainement l'un des meilleurs Bond, la première apparition de la DB5, on peut vraiment dire que ceux film vaut de l'or ! Mauvais jeux de mots^^   \n",
       "125367  \"Criminal - Un espion dans la tête\" est un titre imagé qui résume et présente déjà l'histoire et au fond, ce n'est déjà peut-être pas la meilleure idée qui soit en insistant tant sur ce point !<br/>Maintenant, le traitement général de cette réalisation est typiquement américain, et donne ainsi l'impression d'avoir déjà vu cent fois ce type d'histoire...<br/>CIA et camp adverse, hacker et complot dangereux pour le monde entier, tout est réuni comme à l'habitude !<br/>Mais on y ajoute le passage d'un esprit venu d'un espion décédé dans l'enveloppe charnelle d'un dangereux criminel psychopathe, ce qui aurait pu faire espérer au moins une différence, même si là aussi, ce thème devient récurrent au cinéma.<br/>Mais non, ce point pourtant central n'influe pas plus que cela l'enjeu du film mais permet plutôt à Kevin Costner de tenir la dragée haute jusqu'au bout du bout, dont on a d'ailleurs vite deviné l'issue.<br/>Alors que justement, il aurait fallu creuser le sujet et développer l'aspect SF, un peu comme ce qui avait été entrepris dans \"Renaissances\" à mon avis déjà plus intéressant.<br/>Au fond, un rôle et un film taillés pour l'acteur toujours seul et très fort contre tous, avec une dose de \"Bad boy\" très méchant, de l'action, des rebondissements plus ou moins cohérents et bien sûr la petite dose de romantisme et de sentimentalisme pour humaniser cette brute sanguinaire !<br/>La fin correspond évidemment à ce que l'on l'attendait...<br/>Pas bien original, ne renouvelant absolument pas le genre, cette énième réalisation standardisée de Ariel Vromen, ne fait que surfer sur des lieux communs et on s'ennuie très vite !   \n",
       "181040                                                                                                                                                                                                                                                                                                                                                                                                                                                                                                                           Culte ! A ne manquer sous aucun prétextes !<br/>Une claque dans votre tronche, vous ne tendiez pourtant pas la joue ce qui surprend encore plus ...<br/>Et oui car en lisant le résumé on est pas forcément très emballé et on y va sans trop de convictions, j'ai attendu presque 1 an entre la découverte et le visionnage de ce bijou. Bon en cherchant bien sans forcer, on voit bien qu'il manque 2 ou 3 trucs pour en faire un chef d'oeuvre mais moi je lui donne ce statut, un véritable coup de coeur. Au vu des moyens \"underground\" utilisés pour le film c'est du très lourd. Vincent Gallo au four et au moulin dans son film donc, le garçon a beaucoup de talent à revendre dans les deux fonctions.<br/><br/>J'ai vu que ce film n'avait pas eu grand succès auprès des festivals, une fois que vous l'aurez vu vous lui donneriez pourtant des prix pour son scénario et pour ses acteurs (principaux comme secondaires!)<br/>J'ai trouvé le scénario tellement original et la réalisation tellement chouette et personnel !<br/>Le mieux c'est d'y aller les yeux fermés, vous ne serez que surpris davantage par ce film plein de fraîcheur et de magnétisme.   \n",
       "123590                                                                                                                                                                                                                                                                                                                                                                                                                                                                                                                                                                                                                                                                                                                                                                 Un film portant le nom du réalisateur Jaume Balaguero attire l’œil, du fait des très bons souvenirs de \"La Secte Sans Nom\", \"Fragile\" ou \"REC\" !<br/><br/>Après l'envie, on passe à la réalité de cette oeuvre, soit disant d'épouvante, sur le thème des Muses. Présenté sous forme d'enquête à rebondissements scénaristiques mous, dans une ambiance plate, et quelques passages qui auraient pus faire peur si ils avaient été vraiment appuyés, on sent l'ennuie venir et nous cerner jusqu'à la conclusion dite macabre.<br/><br/>Plus 1h40 c'est vraiment trop long, avec des personnages et des muses qui ne donnent pas de sentiments d'effroi de peur. Si vous voulez voir une enquête fantastique sans prise de tête, foncez !, si vous voulez un film d'épouvante pour un soirée horrifique, passez votre chemin, le cauchemar est resté dans l'immeuble du premier Rec !<br/>À plus sur aujourdhuichezyoyovideo.blogspot.fr !   \n",
       "7099                                                                                                                                                                                                                                                                                                                                                                                                                                                                                                                                                                                                                                                                                                                                                                                                                                                                                                                                                                                                                                                                                                                                                                                                                                                              sublime, à voir absolument.<br/>pour l'animation, pour l'histoire dans l'histoire, on y rentre dès le début et on ne lâche plus jusqu'à la fin.<br/>je vous conseille d'y aller seul ou avec vos enfants. la symbolique des singes est très bien trouvée, même si ça se passe au début de l'aire du capitalisme, pour nous montrer indirectement la folie du monde actuel.<br/>film intelligent et positif, j'en suis ressortie pleine de joie.   \n",
       "190456                                                                                                                                                                                                                                                                                                                                                                                                                                                                                                                                                                                                                                                                                                                                                                                                                                                                                                                                                                                                                                                                                                                                                                                                                                                                                                        Il est facile de descendre ce film étant donné que ce cinéaste a toujours été nul, post-nouvelle vague mais là, il n'y a que de la complaisance autant envers la nudité et que de l'homosexualité, le tout en employant un acteur de hard comme c'est la mode. C'est dire le naufrage du cinéma français pour un \"auteur\" qui n'est là que pour raconter sa vie. Le naufrage est à tous les étages.   \n",
       "135220                                                                                                                                                                                                                                                                                                                                                                                                                                                                                                                                                                                                                                                                                                                                                                                                                                                                                                                                                                                                                                                                                                                                                                                                                                                                                                                                   Au début l'histoire promet par la suite ouille ! ça devient pâteux et cela nous mène nulle part. A part ça, jolie animation graphique. Ce qui ressort le plus dans cette anime c'est la composition de Tenmon, une musique assez proche de Joe Hisaishi avec moins d'ampleur, mais les morceaux sont présent quasi tout le long sous une harmonicité au diapason proche.   \n",
       "\n",
       "        polarity  \n",
       "51571          0  \n",
       "53583          1  \n",
       "12153          1  \n",
       "139002         1  \n",
       "125367         0  \n",
       "181040         1  \n",
       "123590         0  \n",
       "7099           1  \n",
       "190456         0  \n",
       "135220         0  "
      ]
     },
     "execution_count": 29,
     "metadata": {},
     "output_type": "execute_result"
    }
   ],
   "source": [
    "print(balanced_df.groupby('polarity').size())\n",
    "balanced_df.sample(10, random_state=42)"
   ]
  },
  {
   "cell_type": "markdown",
   "metadata": {},
   "source": [
    "## Split train/val/test"
   ]
  },
  {
   "cell_type": "code",
   "execution_count": 30,
   "metadata": {
    "metadata": {}
   },
   "outputs": [
    {
     "name": "stdout",
     "output_type": "stream",
     "text": [
      "LEN TRAIN: 82577\n",
      "LEN VAL: 10341\n",
      "LEN TEST: 10330\n"
     ]
    }
   ],
   "source": [
    "TRAIN_RATIO = 0.8\n",
    "VAL_RATIO = 0.1\n",
    "TEST_RATIO = 0.1\n",
    "\n",
    "total_size = len(balanced_df)\n",
    "\n",
    "train_df = balanced_df.copy()\n",
    "val_df = pd.DataFrame()\n",
    "test_df = pd.DataFrame()\n",
    "\n",
    "while True:\n",
    "    row = train_df.sample(1, random_state=42)\n",
    "    url = row['film-url'].iloc[0]\n",
    "    rows = train_df[train_df['film-url'] == url]\n",
    "    if(len(val_df) < VAL_RATIO * total_size):\n",
    "        val_df = pd.concat([val_df, rows])\n",
    "        train_df = train_df[train_df['film-url'] != url]        \n",
    "    elif(len(test_df) < TEST_RATIO * total_size):\n",
    "        test_df = pd.concat([test_df, rows])\n",
    "        train_df = train_df[train_df['film-url'] != url]\n",
    "    else:\n",
    "        break\n",
    "\n",
    "print(\"LEN TRAIN: \" + str(len(train_df)))\n",
    "print(\"LEN VAL: \" + str(len(val_df)))\n",
    "print(\"LEN TEST: \" + str(len(test_df)))"
   ]
  },
  {
   "cell_type": "code",
   "execution_count": 31,
   "metadata": {
    "metadata": {}
   },
   "outputs": [
    {
     "name": "stdout",
     "output_type": "stream",
     "text": [
      "LEN TRAIN: 82000\n",
      "LEN VAL: 10000\n",
      "LEN TEST: 10000\n"
     ]
    }
   ],
   "source": [
    "# Prune (with harcoded values!) + shuffle + reset indexes\n",
    "train_df = train_df.sample(n=82000, random_state=42).reset_index(drop=True)\n",
    "val_df = val_df.sample(n=10000, random_state=42).reset_index(drop=True)\n",
    "test_df = test_df.sample(n=10000, random_state=42).reset_index(drop=True)\n",
    "\n",
    "print(\"LEN TRAIN: \" + str(len(train_df)))\n",
    "print(\"LEN VAL: \" + str(len(val_df)))\n",
    "print(\"LEN TEST: \" + str(len(test_df)))"
   ]
  },
  {
   "cell_type": "code",
   "execution_count": 32,
   "metadata": {
    "metadata": {}
   },
   "outputs": [
    {
     "name": "stderr",
     "output_type": "stream",
     "text": [
      "C:\\Users\\ASUS\\AppData\\Local\\Temp\\ipykernel_31584\\2859232269.py:6: FutureWarning: \n",
      "\n",
      "Passing `palette` without assigning `hue` is deprecated and will be removed in v0.14.0. Assign the `x` variable to `hue` and set `legend=False` for the same effect.\n",
      "\n",
      "  sns.countplot(data=data, x='polarity', palette=[\"r\", \"g\"], ax=ax[i])\n",
      "C:\\Users\\ASUS\\AppData\\Local\\Temp\\ipykernel_31584\\2859232269.py:8: UserWarning: FixedFormatter should only be used together with FixedLocator\n",
      "  ax[i].set_xticklabels(['Negative', 'Positive'])\n",
      "C:\\Users\\ASUS\\AppData\\Local\\Temp\\ipykernel_31584\\2859232269.py:6: FutureWarning: \n",
      "\n",
      "Passing `palette` without assigning `hue` is deprecated and will be removed in v0.14.0. Assign the `x` variable to `hue` and set `legend=False` for the same effect.\n",
      "\n",
      "  sns.countplot(data=data, x='polarity', palette=[\"r\", \"g\"], ax=ax[i])\n",
      "C:\\Users\\ASUS\\AppData\\Local\\Temp\\ipykernel_31584\\2859232269.py:8: UserWarning: FixedFormatter should only be used together with FixedLocator\n",
      "  ax[i].set_xticklabels(['Negative', 'Positive'])\n",
      "C:\\Users\\ASUS\\AppData\\Local\\Temp\\ipykernel_31584\\2859232269.py:6: FutureWarning: \n",
      "\n",
      "Passing `palette` without assigning `hue` is deprecated and will be removed in v0.14.0. Assign the `x` variable to `hue` and set `legend=False` for the same effect.\n",
      "\n",
      "  sns.countplot(data=data, x='polarity', palette=[\"r\", \"g\"], ax=ax[i])\n",
      "C:\\Users\\ASUS\\AppData\\Local\\Temp\\ipykernel_31584\\2859232269.py:8: UserWarning: FixedFormatter should only be used together with FixedLocator\n",
      "  ax[i].set_xticklabels(['Negative', 'Positive'])\n"
     ]
    },
    {
     "data": {
      "image/png": "[encoded data removed]",
      "text/plain": [
       "<Figure size 1000x500 with 3 Axes>"
      ]
     },
     "metadata": {},
     "output_type": "display_data"
    }
   ],
   "source": [
    "splits = [train_df, val_df, test_df]\n",
    "titles = [\"Train set\", \"Val set\", \"Test set\"]\n",
    "\n",
    "fig, ax = plt.subplots(1, len(splits), sharex=True, figsize=(10,5))\n",
    "for i, (data, title) in enumerate(zip(splits, titles)):\n",
    "    sns.countplot(data=data, x='polarity', palette=[\"r\", \"g\"], ax=ax[i])\n",
    "    ax[i].set(xlabel='', ylabel='')\n",
    "    ax[i].set_xticklabels(['Negative', 'Positive']) \n",
    "    ax[i].set_title(title)\n",
    "    \n",
    "    # Frequencies\n",
    "    ncount = len(data)\n",
    "    for p in ax[i].patches:\n",
    "        x=p.get_bbox().get_points()[:,0]\n",
    "        y=p.get_bbox().get_points()[1,1]\n",
    "        ax[i].annotate('{:.1f}%'.format(100.*y/ncount), (x.mean(), y), \n",
    "                ha='center', va='bottom') # set the alignment of the text\n",
    "\n",
    "# Finalize the plot\n",
    "sns.despine(bottom=True)\n",
    "plt.tight_layout(h_pad=2)\n",
    "\n",
    "# Saving plot\n",
    "fig.savefig('img/splits_polarity.png', dpi=200)"
   ]
  },
  {
   "cell_type": "markdown",
   "metadata": {},
   "source": [
    "# Export"
   ]
  },
  {
   "cell_type": "markdown",
   "metadata": {},
   "source": [
    "## To pickle"
   ]
  },
  {
   "cell_type": "code",
   "execution_count": 33,
   "metadata": {
    "metadata": {}
   },
   "outputs": [],
   "source": [
    "DATA_DIR = './../data'\n",
    "os.makedirs(DATA_DIR)"
   ]
  },
  {
   "cell_type": "code",
   "execution_count": 34,
   "metadata": {
    "metadata": {}
   },
   "outputs": [],
   "source": [
    "# import pickle\n",
    "\n",
    "# out_dict = {\n",
    "#     'train_set': train_df,\n",
    "#     'val_set': val_df,\n",
    "#     'test_set': test_df,\n",
    "#     'class_names': {0: 'Negative', \n",
    "#                     1: 'Positive'}\n",
    "# }\n",
    "\n",
    "# pickle_file = os.path.join(DATA_DIR, \"allocine_dataset.pickle\")\n",
    "# with open(pickle_file, 'wb') as writer:\n",
    "#     pickle.dump(out_dict, writer)\n",
    "\n",
    "import pyarrow as pa\n",
    "import pyarrow.parquet as pq\n",
    "\n",
    "train_path = os.path.join(DATA_DIR, \"train.parquet\")\n",
    "test_path = os.path.join(DATA_DIR, \"test.parquet\")\n",
    "val_path = os.path.join(DATA_DIR, \"validation.parquet\")\n",
    "\n",
    "table_train = pa.Table.from_pandas(train_df)\n",
    "pq.write_table(table_train, train_path)\n",
    "\n",
    "table_test = pa.Table.from_pandas(test_df)\n",
    "pq.write_table(table_test, test_path)\n",
    "\n",
    "table_val = pa.Table.from_pandas(val_df)\n",
    "pq.write_table(table_val, val_path)"
   ]
  },
  {
   "cell_type": "code",
   "execution_count": 35,
   "metadata": {
    "metadata": {}
   },
   "outputs": [
    {
     "name": "stdout",
     "output_type": "stream",
     "text": [
      "82000\n",
      "10000\n",
      "10000\n"
     ]
    }
   ],
   "source": [
    "# with open(pickle_file, 'rb') as reader:\n",
    "#     data = pickle.load(reader)\n",
    "    \n",
    "# print(\"LEN TRAIN: \"+ str(len(data[\"train_set\"])))\n",
    "# print(\"LEN VAL: \"+ str(len(data[\"val_set\"])))\n",
    "# print(\"LEN TEST: \"+ str(len(data[\"test_set\"])))\n",
    "\n",
    "import pandas as pd\n",
    "train = pd.read_parquet(train_path)\n",
    "print(len(train))\n",
    "\n",
    "test = pd.read_parquet(test_path)\n",
    "print(len(test))\n",
    "\n",
    "val = pd.read_parquet(val_path)\n",
    "print(len(val))"
   ]
  },
  {
   "cell_type": "markdown",
   "metadata": {},
   "source": [
    "## Create archive"
   ]
  },
  {
   "cell_type": "code",
   "execution_count": 36,
   "metadata": {
    "metadata": {}
   },
   "outputs": [],
   "source": [
    "import tarfile\n",
    "\n",
    "with tarfile.open(\"data.tar.bz2\", \"w:bz2\") as tar:\n",
    "    tar.add(DATA_DIR, arcname=os.path.basename(DATA_DIR))"
   ]
  },
  {
   "cell_type": "code",
   "execution_count": null,
   "metadata": {},
   "outputs": [],
   "source": []
  }
 ],
 "metadata": {
  "kernelspec": {
   "display_name": "Python 3",
   "language": "python",
   "name": "python3"
  },
  "language_info": {
   "codemirror_mode": {
    "name": "ipython",
    "version": 3
   },
   "file_extension": ".py",
   "mimetype": "text/x-python",
   "name": "python",
   "nbconvert_exporter": "python",
   "pygments_lexer": "ipython3",
   "version": "3.11.4"
  }
 },
 "nbformat": 4,
 "nbformat_minor": 4
}
